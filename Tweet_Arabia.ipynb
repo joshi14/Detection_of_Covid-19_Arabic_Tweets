{
  "nbformat": 4,
  "nbformat_minor": 0,
  "metadata": {
    "colab": {
      "name": "Tweet Arabia.ipynb",
      "provenance": [],
      "collapsed_sections": [],
      "include_colab_link": true
    },
    "kernelspec": {
      "name": "python3",
      "display_name": "Python 3"
    },
    "language_info": {
      "name": "python"
    }
  },
  "cells": [
    {
      "cell_type": "markdown",
      "metadata": {
        "id": "view-in-github",
        "colab_type": "text"
      },
      "source": [
        "<a href=\"https://colab.research.google.com/github/joshi14/Detection_of_Covid-19_Arabic_Tweets/blob/main/Tweet_Arabia.ipynb\" target=\"_parent\"><img src=\"https://colab.research.google.com/assets/colab-badge.svg\" alt=\"Open In Colab\"/></a>"
      ]
    },
    {
      "cell_type": "markdown",
      "metadata": {
        "id": "GicAIucuppd2"
      },
      "source": [
        "## **Detection of Covid-19 Arabic Tweets**"
      ]
    },
    {
      "cell_type": "markdown",
      "metadata": {
        "id": "BF2Jqr_s2Qmn"
      },
      "source": [
        "**Importing the Libraries**"
      ]
    },
    {
      "cell_type": "code",
      "metadata": {
        "id": "lZjqqhsWnDoA",
        "colab": {
          "base_uri": "https://localhost:8080/"
        },
        "outputId": "c1b4b174-f2c0-426b-c8de-191a963fee12"
      },
      "source": [
        "# installing camel tools as it is an open source toolkit for Arabic NLP(Natural Language prcessing)\n",
        "! pip install camel-tools"
      ],
      "execution_count": null,
      "outputs": [
        {
          "output_type": "stream",
          "name": "stdout",
          "text": [
            "Collecting camel-tools\n",
            "  Downloading camel_tools-1.2.0.tar.gz (58 kB)\n",
            "\u001b[?25l\r\u001b[K     |█████▋                          | 10 kB 27.2 MB/s eta 0:00:01\r\u001b[K     |███████████▎                    | 20 kB 8.9 MB/s eta 0:00:01\r\u001b[K     |█████████████████               | 30 kB 7.5 MB/s eta 0:00:01\r\u001b[K     |██████████████████████▋         | 40 kB 7.1 MB/s eta 0:00:01\r\u001b[K     |████████████████████████████▏   | 51 kB 5.1 MB/s eta 0:00:01\r\u001b[K     |████████████████████████████████| 58 kB 2.2 MB/s \n",
            "\u001b[?25hRequirement already satisfied: future in /usr/local/lib/python3.7/dist-packages (from camel-tools) (0.16.0)\n",
            "Requirement already satisfied: six in /usr/local/lib/python3.7/dist-packages (from camel-tools) (1.15.0)\n",
            "Requirement already satisfied: docopt in /usr/local/lib/python3.7/dist-packages (from camel-tools) (0.6.2)\n",
            "Requirement already satisfied: cachetools in /usr/local/lib/python3.7/dist-packages (from camel-tools) (4.2.4)\n",
            "Requirement already satisfied: numpy in /usr/local/lib/python3.7/dist-packages (from camel-tools) (1.19.5)\n",
            "Requirement already satisfied: scipy in /usr/local/lib/python3.7/dist-packages (from camel-tools) (1.4.1)\n",
            "Requirement already satisfied: pandas in /usr/local/lib/python3.7/dist-packages (from camel-tools) (1.1.5)\n",
            "Requirement already satisfied: scikit-learn in /usr/local/lib/python3.7/dist-packages (from camel-tools) (1.0.2)\n",
            "Requirement already satisfied: dill in /usr/local/lib/python3.7/dist-packages (from camel-tools) (0.3.4)\n",
            "Requirement already satisfied: torch>=1.3 in /usr/local/lib/python3.7/dist-packages (from camel-tools) (1.10.0+cu111)\n",
            "Collecting transformers>=3.0.2\n",
            "  Downloading transformers-4.16.1-py3-none-any.whl (3.5 MB)\n",
            "\u001b[K     |████████████████████████████████| 3.5 MB 7.5 MB/s \n",
            "\u001b[?25hRequirement already satisfied: editdistance in /usr/local/lib/python3.7/dist-packages (from camel-tools) (0.5.3)\n",
            "Requirement already satisfied: requests in /usr/local/lib/python3.7/dist-packages (from camel-tools) (2.23.0)\n",
            "Collecting camel-kenlm\n",
            "  Downloading camel-kenlm-2021.12.27.tar.gz (418 kB)\n",
            "\u001b[K     |████████████████████████████████| 418 kB 31.6 MB/s \n",
            "\u001b[?25hRequirement already satisfied: typing-extensions in /usr/local/lib/python3.7/dist-packages (from torch>=1.3->camel-tools) (3.10.0.2)\n",
            "Collecting tokenizers!=0.11.3,>=0.10.1\n",
            "  Downloading tokenizers-0.11.4-cp37-cp37m-manylinux_2_12_x86_64.manylinux2010_x86_64.whl (6.8 MB)\n",
            "\u001b[K     |████████████████████████████████| 6.8 MB 34.6 MB/s \n",
            "\u001b[?25hCollecting huggingface-hub<1.0,>=0.1.0\n",
            "  Downloading huggingface_hub-0.4.0-py3-none-any.whl (67 kB)\n",
            "\u001b[K     |████████████████████████████████| 67 kB 3.1 MB/s \n",
            "\u001b[?25hRequirement already satisfied: filelock in /usr/local/lib/python3.7/dist-packages (from transformers>=3.0.2->camel-tools) (3.4.2)\n",
            "Collecting sacremoses\n",
            "  Downloading sacremoses-0.0.47-py2.py3-none-any.whl (895 kB)\n",
            "\u001b[K     |████████████████████████████████| 895 kB 34.0 MB/s \n",
            "\u001b[?25hCollecting pyyaml>=5.1\n",
            "  Downloading PyYAML-6.0-cp37-cp37m-manylinux_2_5_x86_64.manylinux1_x86_64.manylinux_2_12_x86_64.manylinux2010_x86_64.whl (596 kB)\n",
            "\u001b[K     |████████████████████████████████| 596 kB 46.3 MB/s \n",
            "\u001b[?25hRequirement already satisfied: regex!=2019.12.17 in /usr/local/lib/python3.7/dist-packages (from transformers>=3.0.2->camel-tools) (2019.12.20)\n",
            "Requirement already satisfied: packaging>=20.0 in /usr/local/lib/python3.7/dist-packages (from transformers>=3.0.2->camel-tools) (21.3)\n",
            "Requirement already satisfied: tqdm>=4.27 in /usr/local/lib/python3.7/dist-packages (from transformers>=3.0.2->camel-tools) (4.62.3)\n",
            "Requirement already satisfied: importlib-metadata in /usr/local/lib/python3.7/dist-packages (from transformers>=3.0.2->camel-tools) (4.10.1)\n",
            "Requirement already satisfied: pyparsing!=3.0.5,>=2.0.2 in /usr/local/lib/python3.7/dist-packages (from packaging>=20.0->transformers>=3.0.2->camel-tools) (3.0.7)\n",
            "Requirement already satisfied: zipp>=0.5 in /usr/local/lib/python3.7/dist-packages (from importlib-metadata->transformers>=3.0.2->camel-tools) (3.7.0)\n",
            "Requirement already satisfied: python-dateutil>=2.7.3 in /usr/local/lib/python3.7/dist-packages (from pandas->camel-tools) (2.8.2)\n",
            "Requirement already satisfied: pytz>=2017.2 in /usr/local/lib/python3.7/dist-packages (from pandas->camel-tools) (2018.9)\n",
            "Requirement already satisfied: chardet<4,>=3.0.2 in /usr/local/lib/python3.7/dist-packages (from requests->camel-tools) (3.0.4)\n",
            "Requirement already satisfied: urllib3!=1.25.0,!=1.25.1,<1.26,>=1.21.1 in /usr/local/lib/python3.7/dist-packages (from requests->camel-tools) (1.24.3)\n",
            "Requirement already satisfied: certifi>=2017.4.17 in /usr/local/lib/python3.7/dist-packages (from requests->camel-tools) (2021.10.8)\n",
            "Requirement already satisfied: idna<3,>=2.5 in /usr/local/lib/python3.7/dist-packages (from requests->camel-tools) (2.10)\n",
            "Requirement already satisfied: joblib in /usr/local/lib/python3.7/dist-packages (from sacremoses->transformers>=3.0.2->camel-tools) (1.1.0)\n",
            "Requirement already satisfied: click in /usr/local/lib/python3.7/dist-packages (from sacremoses->transformers>=3.0.2->camel-tools) (7.1.2)\n",
            "Requirement already satisfied: threadpoolctl>=2.0.0 in /usr/local/lib/python3.7/dist-packages (from scikit-learn->camel-tools) (3.0.0)\n",
            "Building wheels for collected packages: camel-tools, camel-kenlm\n",
            "  Building wheel for camel-tools (setup.py) ... \u001b[?25l\u001b[?25hdone\n",
            "  Created wheel for camel-tools: filename=camel_tools-1.2.0-py3-none-any.whl size=99048 sha256=0672838d935c1c8acf49d1a9421c2262048e813baf1b1098d6ee56bd8d81d2fe\n",
            "  Stored in directory: /root/.cache/pip/wheels/05/ad/a1/e8aa569c102f0b8b3522ae515b7d0696046e4490c0ff4edb0a\n",
            "  Building wheel for camel-kenlm (setup.py) ... \u001b[?25l\u001b[?25hdone\n",
            "  Created wheel for camel-kenlm: filename=camel_kenlm-2021.12.27-cp37-cp37m-linux_x86_64.whl size=2335438 sha256=b141e4891476cc2556adbcbe4798848ed1759b02d7dc7931152fb2bf302ff2fb\n",
            "  Stored in directory: /root/.cache/pip/wheels/db/72/74/982f8c435f15b7feaf6dc8a03e212ff34e93f1f2d747059332\n",
            "Successfully built camel-tools camel-kenlm\n",
            "Installing collected packages: pyyaml, tokenizers, sacremoses, huggingface-hub, transformers, camel-kenlm, camel-tools\n",
            "  Attempting uninstall: pyyaml\n",
            "    Found existing installation: PyYAML 3.13\n",
            "    Uninstalling PyYAML-3.13:\n",
            "      Successfully uninstalled PyYAML-3.13\n",
            "Successfully installed camel-kenlm-2021.12.27 camel-tools-1.2.0 huggingface-hub-0.4.0 pyyaml-6.0 sacremoses-0.0.47 tokenizers-0.11.4 transformers-4.16.1\n"
          ]
        }
      ]
    },
    {
      "cell_type": "code",
      "metadata": {
        "colab": {
          "base_uri": "https://localhost:8080/"
        },
        "id": "eo_ijUflF_Tz",
        "outputId": "13ae36dd-d264-4ed3-e4d1-60a6bc3cc572"
      },
      "source": [
        "# Installing emoji module\n",
        "! pip install emoji"
      ],
      "execution_count": null,
      "outputs": [
        {
          "output_type": "stream",
          "name": "stdout",
          "text": [
            "Collecting emoji\n",
            "  Downloading emoji-1.6.3.tar.gz (174 kB)\n",
            "\u001b[?25l\r\u001b[K     |█▉                              | 10 kB 25.3 MB/s eta 0:00:01\r\u001b[K     |███▊                            | 20 kB 14.0 MB/s eta 0:00:01\r\u001b[K     |█████▋                          | 30 kB 10.1 MB/s eta 0:00:01\r\u001b[K     |███████▌                        | 40 kB 8.9 MB/s eta 0:00:01\r\u001b[K     |█████████▍                      | 51 kB 4.4 MB/s eta 0:00:01\r\u001b[K     |███████████▎                    | 61 kB 5.1 MB/s eta 0:00:01\r\u001b[K     |█████████████▏                  | 71 kB 5.3 MB/s eta 0:00:01\r\u001b[K     |███████████████                 | 81 kB 5.9 MB/s eta 0:00:01\r\u001b[K     |█████████████████               | 92 kB 6.1 MB/s eta 0:00:01\r\u001b[K     |██████████████████▉             | 102 kB 5.2 MB/s eta 0:00:01\r\u001b[K     |████████████████████▊           | 112 kB 5.2 MB/s eta 0:00:01\r\u001b[K     |██████████████████████▋         | 122 kB 5.2 MB/s eta 0:00:01\r\u001b[K     |████████████████████████▌       | 133 kB 5.2 MB/s eta 0:00:01\r\u001b[K     |██████████████████████████▍     | 143 kB 5.2 MB/s eta 0:00:01\r\u001b[K     |████████████████████████████▏   | 153 kB 5.2 MB/s eta 0:00:01\r\u001b[K     |██████████████████████████████  | 163 kB 5.2 MB/s eta 0:00:01\r\u001b[K     |████████████████████████████████| 174 kB 5.2 MB/s eta 0:00:01\r\u001b[K     |████████████████████████████████| 174 kB 5.2 MB/s \n",
            "\u001b[?25hBuilding wheels for collected packages: emoji\n",
            "  Building wheel for emoji (setup.py) ... \u001b[?25l\u001b[?25hdone\n",
            "  Created wheel for emoji: filename=emoji-1.6.3-py3-none-any.whl size=170298 sha256=5594f77873f8586a4aa16260ddb2f0fb32427871d1a600a11851537cc6b406a3\n",
            "  Stored in directory: /root/.cache/pip/wheels/03/8b/d7/ad579fbef83c287215c0caab60fb0ae0f30c4d7ce5f580eade\n",
            "Successfully built emoji\n",
            "Installing collected packages: emoji\n",
            "Successfully installed emoji-1.6.3\n"
          ]
        }
      ]
    },
    {
      "cell_type": "code",
      "metadata": {
        "colab": {
          "base_uri": "https://localhost:8080/"
        },
        "id": "LGciGdIlkU-Z",
        "outputId": "d29a0381-fb12-48e1-a8be-79b84631ee55"
      },
      "source": [
        "pip install stop_words"
      ],
      "execution_count": null,
      "outputs": [
        {
          "output_type": "stream",
          "name": "stdout",
          "text": [
            "Collecting stop_words\n",
            "  Downloading stop-words-2018.7.23.tar.gz (31 kB)\n",
            "Building wheels for collected packages: stop-words\n",
            "  Building wheel for stop-words (setup.py) ... \u001b[?25l\u001b[?25hdone\n",
            "  Created wheel for stop-words: filename=stop_words-2018.7.23-py3-none-any.whl size=32911 sha256=a32b155ca8ad0d372261bb62d185d9cc1b39ec39b14243523367b2f14c5efbba\n",
            "  Stored in directory: /root/.cache/pip/wheels/fb/86/b2/277b10b1ce9f73ce15059bf6975d4547cc4ec3feeb651978e9\n",
            "Successfully built stop-words\n",
            "Installing collected packages: stop-words\n",
            "Successfully installed stop-words-2018.7.23\n"
          ]
        }
      ]
    },
    {
      "cell_type": "code",
      "metadata": {
        "colab": {
          "base_uri": "https://localhost:8080/"
        },
        "id": "Z9oaz1zrt6XP",
        "outputId": "13615d72-80ce-4a59-e637-5126c2a83251"
      },
      "source": [
        "pip install nltk"
      ],
      "execution_count": null,
      "outputs": [
        {
          "output_type": "stream",
          "name": "stdout",
          "text": [
            "Requirement already satisfied: nltk in /usr/local/lib/python3.7/dist-packages (3.2.5)\n",
            "Requirement already satisfied: six in /usr/local/lib/python3.7/dist-packages (from nltk) (1.15.0)\n"
          ]
        }
      ]
    },
    {
      "cell_type": "code",
      "metadata": {
        "id": "nzvNuQjkpPt7"
      },
      "source": [
        "from camel_tools.tokenizers import word       # To tokenize a word in Arabic we are importing word from camel_tools.tokenizers. \n",
        "import pandas as pd                           # We use pandas as it is easy to use data structutres and data analysis tools for python language\n",
        "import re                                     # We are importing re to indicate special forms or to allow special characters \n",
        "import emoji                                  # We are importing emoji to remove the emojis from the tweets\n",
        "from sklearn.feature_extraction.text import TfidfVectorizer\n",
        "                                              # TF-IDF stands for “Term Frequency — Inverse Document Frequency”.\n",
        "                                              # TfidfVectorizer will tokenize documents, learn the vocabulary and inverse document frequency weightings, and allow us to encode new documents\n",
        "from sklearn.decomposition import TruncatedSVD# Here we importing TruncatedSVD to reduce dimensionality\n",
        "import numpy as np                            # We use numpy as it contains many mathematical operations,multidimensional array etc\n",
        "from sklearn import preprocessing\n",
        "from sklearn.model_selection import train_test_split\n",
        "from sklearn import tree\n",
        "from sklearn.metrics import classification_report\n",
        "from sklearn.metrics import accuracy_score\n",
        "from sklearn.metrics import confusion_matrix\n",
        "from sklearn.naive_bayes import GaussianNB\n",
        "from sklearn import svm\n",
        "from sklearn.ensemble import RandomForestClassifier\n",
        "import matplotlib.pyplot as plt\n",
        "import seaborn as sns\n",
        "import stop_words\n",
        "from plotly import graph_objs as go\n",
        "from stop_words import get_stop_words\n",
        "from sklearn.feature_extraction.text import CountVectorizer\n",
        "from sklearn.feature_extraction.text import TfidfTransformer\n",
        "from sklearn import feature_extraction, linear_model, model_selection, preprocessing\n",
        "from sklearn.metrics import accuracy_score,classification_report,roc_curve,roc_auc_score\n",
        "from sklearn.model_selection import train_test_split\n",
        "from sklearn.pipeline import Pipeline\n",
        "from sklearn.pipeline import make_pipeline\n",
        "from sklearn.linear_model import LogisticRegression\n",
        "from sklearn.linear_model import Perceptron\n",
        "from sklearn.naive_bayes import MultinomialNB\n",
        "from sklearn.model_selection import train_test_split, GridSearchCV\n",
        "from sklearn.svm import SVC\n",
        "from sklearn.metrics import plot_confusion_matrix\n",
        "from sklearn import feature_extraction, linear_model, model_selection, preprocessing\n",
        "import sklearn.metrics as metrics\n",
        "from sklearn.metrics import accuracy_score,classification_report,roc_curve,roc_auc_score"
      ],
      "execution_count": null,
      "outputs": []
    },
    {
      "cell_type": "markdown",
      "metadata": {
        "id": "OL_gB7iXowUT"
      },
      "source": [
        "## Train Data"
      ]
    },
    {
      "cell_type": "markdown",
      "metadata": {
        "id": "psGeKtjaboFq"
      },
      "source": [
        "**Reading Data**"
      ]
    },
    {
      "cell_type": "code",
      "metadata": {
        "colab": {
          "base_uri": "https://localhost:8080/"
        },
        "id": "Dm5gm2pdlYoQ",
        "outputId": "36507d87-5f46-4618-d2ec-d349139c148a"
      },
      "source": [
        "# read_csv is an pandas function it is to read csv files and do operations on it1\n",
        "from google.colab import drive\n",
        "drive.mount('/content/drive')"
      ],
      "execution_count": null,
      "outputs": [
        {
          "output_type": "stream",
          "name": "stdout",
          "text": [
            "Mounted at /content/drive\n"
          ]
        }
      ]
    },
    {
      "cell_type": "code",
      "metadata": {
        "id": "Std7ekMF9W6w"
      },
      "source": [
        "df = pd.read_csv(\"/content/drive/MyDrive/Arabic_Tweets.csv\")"
      ],
      "execution_count": null,
      "outputs": []
    },
    {
      "cell_type": "markdown",
      "metadata": {
        "id": "TsQsIF1-Z5tJ"
      },
      "source": [
        "**Displaying Data**\n"
      ]
    },
    {
      "cell_type": "code",
      "metadata": {
        "colab": {
          "base_uri": "https://localhost:8080/",
          "height": 423
        },
        "id": "NoVR5HJ_4E8b",
        "outputId": "ea02c9ca-bac3-4e28-b185-77dc8e422a7a"
      },
      "source": [
        "df"
      ],
      "execution_count": null,
      "outputs": [
        {
          "output_type": "execute_result",
          "data": {
            "text/html": [
              "\n",
              "  <div id=\"df-2d11b160-c473-41ee-bda7-dea3f4e946e1\">\n",
              "    <div class=\"colab-df-container\">\n",
              "      <div>\n",
              "<style scoped>\n",
              "    .dataframe tbody tr th:only-of-type {\n",
              "        vertical-align: middle;\n",
              "    }\n",
              "\n",
              "    .dataframe tbody tr th {\n",
              "        vertical-align: top;\n",
              "    }\n",
              "\n",
              "    .dataframe thead th {\n",
              "        text-align: right;\n",
              "    }\n",
              "</style>\n",
              "<table border=\"1\" class=\"dataframe\">\n",
              "  <thead>\n",
              "    <tr style=\"text-align: right;\">\n",
              "      <th></th>\n",
              "      <th>Tweet Number</th>\n",
              "      <th>Nature</th>\n",
              "      <th>Tweet</th>\n",
              "    </tr>\n",
              "  </thead>\n",
              "  <tbody>\n",
              "    <tr>\n",
              "      <th>0</th>\n",
              "      <td>1</td>\n",
              "      <td>pos</td>\n",
              "      <td>نحن الذين يتحول كل ما نود أن نقوله إلى دعاء لل...</td>\n",
              "    </tr>\n",
              "    <tr>\n",
              "      <th>1</th>\n",
              "      <td>2</td>\n",
              "      <td>pos</td>\n",
              "      <td>وفي النهاية لن يبقىٰ معك آحدإلا من رأىٰ الجمال...</td>\n",
              "    </tr>\n",
              "    <tr>\n",
              "      <th>2</th>\n",
              "      <td>3</td>\n",
              "      <td>pos</td>\n",
              "      <td>من الخير نفسه 💛</td>\n",
              "    </tr>\n",
              "    <tr>\n",
              "      <th>3</th>\n",
              "      <td>4</td>\n",
              "      <td>pos</td>\n",
              "      <td>#زلزل_الملعب_نصرنا_بيلعب كن عالي الهمه ولا ترض...</td>\n",
              "    </tr>\n",
              "    <tr>\n",
              "      <th>4</th>\n",
              "      <td>5</td>\n",
              "      <td>pos</td>\n",
              "      <td>الشيء الوحيد الذي وصلوا فيه للعالمية هو : المس...</td>\n",
              "    </tr>\n",
              "    <tr>\n",
              "      <th>...</th>\n",
              "      <td>...</td>\n",
              "      <td>...</td>\n",
              "      <td>...</td>\n",
              "    </tr>\n",
              "    <tr>\n",
              "      <th>45269</th>\n",
              "      <td>45270</td>\n",
              "      <td>neg</td>\n",
              "      <td>كيف ترى أورانوس لو كان يقع مكان القمر ؟ 💙💙 كوك...</td>\n",
              "    </tr>\n",
              "    <tr>\n",
              "      <th>45270</th>\n",
              "      <td>45271</td>\n",
              "      <td>neg</td>\n",
              "      <td>احسدك على الايم 💔</td>\n",
              "    </tr>\n",
              "    <tr>\n",
              "      <th>45271</th>\n",
              "      <td>45272</td>\n",
              "      <td>neg</td>\n",
              "      <td>لأول مرة ما بنكون سوا 💔</td>\n",
              "    </tr>\n",
              "    <tr>\n",
              "      <th>45272</th>\n",
              "      <td>45273</td>\n",
              "      <td>neg</td>\n",
              "      <td>بقله ليش يا واطي 🤔</td>\n",
              "    </tr>\n",
              "    <tr>\n",
              "      <th>45273</th>\n",
              "      <td>45274</td>\n",
              "      <td>neg</td>\n",
              "      <td>قد طال صبري في النوى إذ تركتني كئيبا ؛ غريبا ب...</td>\n",
              "    </tr>\n",
              "  </tbody>\n",
              "</table>\n",
              "<p>45274 rows × 3 columns</p>\n",
              "</div>\n",
              "      <button class=\"colab-df-convert\" onclick=\"convertToInteractive('df-2d11b160-c473-41ee-bda7-dea3f4e946e1')\"\n",
              "              title=\"Convert this dataframe to an interactive table.\"\n",
              "              style=\"display:none;\">\n",
              "        \n",
              "  <svg xmlns=\"http://www.w3.org/2000/svg\" height=\"24px\"viewBox=\"0 0 24 24\"\n",
              "       width=\"24px\">\n",
              "    <path d=\"M0 0h24v24H0V0z\" fill=\"none\"/>\n",
              "    <path d=\"M18.56 5.44l.94 2.06.94-2.06 2.06-.94-2.06-.94-.94-2.06-.94 2.06-2.06.94zm-11 1L8.5 8.5l.94-2.06 2.06-.94-2.06-.94L8.5 2.5l-.94 2.06-2.06.94zm10 10l.94 2.06.94-2.06 2.06-.94-2.06-.94-.94-2.06-.94 2.06-2.06.94z\"/><path d=\"M17.41 7.96l-1.37-1.37c-.4-.4-.92-.59-1.43-.59-.52 0-1.04.2-1.43.59L10.3 9.45l-7.72 7.72c-.78.78-.78 2.05 0 2.83L4 21.41c.39.39.9.59 1.41.59.51 0 1.02-.2 1.41-.59l7.78-7.78 2.81-2.81c.8-.78.8-2.07 0-2.86zM5.41 20L4 18.59l7.72-7.72 1.47 1.35L5.41 20z\"/>\n",
              "  </svg>\n",
              "      </button>\n",
              "      \n",
              "  <style>\n",
              "    .colab-df-container {\n",
              "      display:flex;\n",
              "      flex-wrap:wrap;\n",
              "      gap: 12px;\n",
              "    }\n",
              "\n",
              "    .colab-df-convert {\n",
              "      background-color: #E8F0FE;\n",
              "      border: none;\n",
              "      border-radius: 50%;\n",
              "      cursor: pointer;\n",
              "      display: none;\n",
              "      fill: #1967D2;\n",
              "      height: 32px;\n",
              "      padding: 0 0 0 0;\n",
              "      width: 32px;\n",
              "    }\n",
              "\n",
              "    .colab-df-convert:hover {\n",
              "      background-color: #E2EBFA;\n",
              "      box-shadow: 0px 1px 2px rgba(60, 64, 67, 0.3), 0px 1px 3px 1px rgba(60, 64, 67, 0.15);\n",
              "      fill: #174EA6;\n",
              "    }\n",
              "\n",
              "    [theme=dark] .colab-df-convert {\n",
              "      background-color: #3B4455;\n",
              "      fill: #D2E3FC;\n",
              "    }\n",
              "\n",
              "    [theme=dark] .colab-df-convert:hover {\n",
              "      background-color: #434B5C;\n",
              "      box-shadow: 0px 1px 3px 1px rgba(0, 0, 0, 0.15);\n",
              "      filter: drop-shadow(0px 1px 2px rgba(0, 0, 0, 0.3));\n",
              "      fill: #FFFFFF;\n",
              "    }\n",
              "  </style>\n",
              "\n",
              "      <script>\n",
              "        const buttonEl =\n",
              "          document.querySelector('#df-2d11b160-c473-41ee-bda7-dea3f4e946e1 button.colab-df-convert');\n",
              "        buttonEl.style.display =\n",
              "          google.colab.kernel.accessAllowed ? 'block' : 'none';\n",
              "\n",
              "        async function convertToInteractive(key) {\n",
              "          const element = document.querySelector('#df-2d11b160-c473-41ee-bda7-dea3f4e946e1');\n",
              "          const dataTable =\n",
              "            await google.colab.kernel.invokeFunction('convertToInteractive',\n",
              "                                                     [key], {});\n",
              "          if (!dataTable) return;\n",
              "\n",
              "          const docLinkHtml = 'Like what you see? Visit the ' +\n",
              "            '<a target=\"_blank\" href=https://colab.research.google.com/notebooks/data_table.ipynb>data table notebook</a>'\n",
              "            + ' to learn more about interactive tables.';\n",
              "          element.innerHTML = '';\n",
              "          dataTable['output_type'] = 'display_data';\n",
              "          await google.colab.output.renderOutput(dataTable, element);\n",
              "          const docLink = document.createElement('div');\n",
              "          docLink.innerHTML = docLinkHtml;\n",
              "          element.appendChild(docLink);\n",
              "        }\n",
              "      </script>\n",
              "    </div>\n",
              "  </div>\n",
              "  "
            ],
            "text/plain": [
              "       Tweet Number Nature                                              Tweet\n",
              "0                 1    pos  نحن الذين يتحول كل ما نود أن نقوله إلى دعاء لل...\n",
              "1                 2    pos  وفي النهاية لن يبقىٰ معك آحدإلا من رأىٰ الجمال...\n",
              "2                 3    pos                                    من الخير نفسه 💛\n",
              "3                 4    pos  #زلزل_الملعب_نصرنا_بيلعب كن عالي الهمه ولا ترض...\n",
              "4                 5    pos  الشيء الوحيد الذي وصلوا فيه للعالمية هو : المس...\n",
              "...             ...    ...                                                ...\n",
              "45269         45270    neg  كيف ترى أورانوس لو كان يقع مكان القمر ؟ 💙💙 كوك...\n",
              "45270         45271    neg                                  احسدك على الايم 💔\n",
              "45271         45272    neg                            لأول مرة ما بنكون سوا 💔\n",
              "45272         45273    neg                                 بقله ليش يا واطي 🤔\n",
              "45273         45274    neg  قد طال صبري في النوى إذ تركتني كئيبا ؛ غريبا ب...\n",
              "\n",
              "[45274 rows x 3 columns]"
            ]
          },
          "metadata": {},
          "execution_count": 9
        }
      ]
    },
    {
      "cell_type": "code",
      "metadata": {
        "colab": {
          "base_uri": "https://localhost:8080/",
          "height": 206
        },
        "id": "qJPsUestmXKa",
        "outputId": "ddaa98bd-3db8-46ca-9edc-9ad0da25c743"
      },
      "source": [
        "df.head()"
      ],
      "execution_count": null,
      "outputs": [
        {
          "output_type": "execute_result",
          "data": {
            "text/html": [
              "\n",
              "  <div id=\"df-8c6dd941-275b-4552-b181-79bdde75ab48\">\n",
              "    <div class=\"colab-df-container\">\n",
              "      <div>\n",
              "<style scoped>\n",
              "    .dataframe tbody tr th:only-of-type {\n",
              "        vertical-align: middle;\n",
              "    }\n",
              "\n",
              "    .dataframe tbody tr th {\n",
              "        vertical-align: top;\n",
              "    }\n",
              "\n",
              "    .dataframe thead th {\n",
              "        text-align: right;\n",
              "    }\n",
              "</style>\n",
              "<table border=\"1\" class=\"dataframe\">\n",
              "  <thead>\n",
              "    <tr style=\"text-align: right;\">\n",
              "      <th></th>\n",
              "      <th>Tweet Number</th>\n",
              "      <th>Nature</th>\n",
              "      <th>Tweet</th>\n",
              "    </tr>\n",
              "  </thead>\n",
              "  <tbody>\n",
              "    <tr>\n",
              "      <th>0</th>\n",
              "      <td>1</td>\n",
              "      <td>pos</td>\n",
              "      <td>نحن الذين يتحول كل ما نود أن نقوله إلى دعاء لل...</td>\n",
              "    </tr>\n",
              "    <tr>\n",
              "      <th>1</th>\n",
              "      <td>2</td>\n",
              "      <td>pos</td>\n",
              "      <td>وفي النهاية لن يبقىٰ معك آحدإلا من رأىٰ الجمال...</td>\n",
              "    </tr>\n",
              "    <tr>\n",
              "      <th>2</th>\n",
              "      <td>3</td>\n",
              "      <td>pos</td>\n",
              "      <td>من الخير نفسه 💛</td>\n",
              "    </tr>\n",
              "    <tr>\n",
              "      <th>3</th>\n",
              "      <td>4</td>\n",
              "      <td>pos</td>\n",
              "      <td>#زلزل_الملعب_نصرنا_بيلعب كن عالي الهمه ولا ترض...</td>\n",
              "    </tr>\n",
              "    <tr>\n",
              "      <th>4</th>\n",
              "      <td>5</td>\n",
              "      <td>pos</td>\n",
              "      <td>الشيء الوحيد الذي وصلوا فيه للعالمية هو : المس...</td>\n",
              "    </tr>\n",
              "  </tbody>\n",
              "</table>\n",
              "</div>\n",
              "      <button class=\"colab-df-convert\" onclick=\"convertToInteractive('df-8c6dd941-275b-4552-b181-79bdde75ab48')\"\n",
              "              title=\"Convert this dataframe to an interactive table.\"\n",
              "              style=\"display:none;\">\n",
              "        \n",
              "  <svg xmlns=\"http://www.w3.org/2000/svg\" height=\"24px\"viewBox=\"0 0 24 24\"\n",
              "       width=\"24px\">\n",
              "    <path d=\"M0 0h24v24H0V0z\" fill=\"none\"/>\n",
              "    <path d=\"M18.56 5.44l.94 2.06.94-2.06 2.06-.94-2.06-.94-.94-2.06-.94 2.06-2.06.94zm-11 1L8.5 8.5l.94-2.06 2.06-.94-2.06-.94L8.5 2.5l-.94 2.06-2.06.94zm10 10l.94 2.06.94-2.06 2.06-.94-2.06-.94-.94-2.06-.94 2.06-2.06.94z\"/><path d=\"M17.41 7.96l-1.37-1.37c-.4-.4-.92-.59-1.43-.59-.52 0-1.04.2-1.43.59L10.3 9.45l-7.72 7.72c-.78.78-.78 2.05 0 2.83L4 21.41c.39.39.9.59 1.41.59.51 0 1.02-.2 1.41-.59l7.78-7.78 2.81-2.81c.8-.78.8-2.07 0-2.86zM5.41 20L4 18.59l7.72-7.72 1.47 1.35L5.41 20z\"/>\n",
              "  </svg>\n",
              "      </button>\n",
              "      \n",
              "  <style>\n",
              "    .colab-df-container {\n",
              "      display:flex;\n",
              "      flex-wrap:wrap;\n",
              "      gap: 12px;\n",
              "    }\n",
              "\n",
              "    .colab-df-convert {\n",
              "      background-color: #E8F0FE;\n",
              "      border: none;\n",
              "      border-radius: 50%;\n",
              "      cursor: pointer;\n",
              "      display: none;\n",
              "      fill: #1967D2;\n",
              "      height: 32px;\n",
              "      padding: 0 0 0 0;\n",
              "      width: 32px;\n",
              "    }\n",
              "\n",
              "    .colab-df-convert:hover {\n",
              "      background-color: #E2EBFA;\n",
              "      box-shadow: 0px 1px 2px rgba(60, 64, 67, 0.3), 0px 1px 3px 1px rgba(60, 64, 67, 0.15);\n",
              "      fill: #174EA6;\n",
              "    }\n",
              "\n",
              "    [theme=dark] .colab-df-convert {\n",
              "      background-color: #3B4455;\n",
              "      fill: #D2E3FC;\n",
              "    }\n",
              "\n",
              "    [theme=dark] .colab-df-convert:hover {\n",
              "      background-color: #434B5C;\n",
              "      box-shadow: 0px 1px 3px 1px rgba(0, 0, 0, 0.15);\n",
              "      filter: drop-shadow(0px 1px 2px rgba(0, 0, 0, 0.3));\n",
              "      fill: #FFFFFF;\n",
              "    }\n",
              "  </style>\n",
              "\n",
              "      <script>\n",
              "        const buttonEl =\n",
              "          document.querySelector('#df-8c6dd941-275b-4552-b181-79bdde75ab48 button.colab-df-convert');\n",
              "        buttonEl.style.display =\n",
              "          google.colab.kernel.accessAllowed ? 'block' : 'none';\n",
              "\n",
              "        async function convertToInteractive(key) {\n",
              "          const element = document.querySelector('#df-8c6dd941-275b-4552-b181-79bdde75ab48');\n",
              "          const dataTable =\n",
              "            await google.colab.kernel.invokeFunction('convertToInteractive',\n",
              "                                                     [key], {});\n",
              "          if (!dataTable) return;\n",
              "\n",
              "          const docLinkHtml = 'Like what you see? Visit the ' +\n",
              "            '<a target=\"_blank\" href=https://colab.research.google.com/notebooks/data_table.ipynb>data table notebook</a>'\n",
              "            + ' to learn more about interactive tables.';\n",
              "          element.innerHTML = '';\n",
              "          dataTable['output_type'] = 'display_data';\n",
              "          await google.colab.output.renderOutput(dataTable, element);\n",
              "          const docLink = document.createElement('div');\n",
              "          docLink.innerHTML = docLinkHtml;\n",
              "          element.appendChild(docLink);\n",
              "        }\n",
              "      </script>\n",
              "    </div>\n",
              "  </div>\n",
              "  "
            ],
            "text/plain": [
              "   Tweet Number Nature                                              Tweet\n",
              "0             1    pos  نحن الذين يتحول كل ما نود أن نقوله إلى دعاء لل...\n",
              "1             2    pos  وفي النهاية لن يبقىٰ معك آحدإلا من رأىٰ الجمال...\n",
              "2             3    pos                                    من الخير نفسه 💛\n",
              "3             4    pos  #زلزل_الملعب_نصرنا_بيلعب كن عالي الهمه ولا ترض...\n",
              "4             5    pos  الشيء الوحيد الذي وصلوا فيه للعالمية هو : المس..."
            ]
          },
          "metadata": {},
          "execution_count": 10
        }
      ]
    },
    {
      "cell_type": "code",
      "metadata": {
        "colab": {
          "base_uri": "https://localhost:8080/"
        },
        "id": "CnM6Tije4t-T",
        "outputId": "7185394d-1286-44ce-9b18-bef7e806e5cd"
      },
      "source": [
        "df.shape"
      ],
      "execution_count": null,
      "outputs": [
        {
          "output_type": "execute_result",
          "data": {
            "text/plain": [
              "(45274, 3)"
            ]
          },
          "metadata": {},
          "execution_count": 11
        }
      ]
    },
    {
      "cell_type": "code",
      "metadata": {
        "colab": {
          "base_uri": "https://localhost:8080/"
        },
        "id": "0U-BnoEZ4yDh",
        "outputId": "f1f78169-5476-4805-a79e-3f12fe901df7"
      },
      "source": [
        "df.info"
      ],
      "execution_count": null,
      "outputs": [
        {
          "output_type": "execute_result",
          "data": {
            "text/plain": [
              "<bound method DataFrame.info of        Tweet Number Nature                                              Tweet\n",
              "0                 1    pos  نحن الذين يتحول كل ما نود أن نقوله إلى دعاء لل...\n",
              "1                 2    pos  وفي النهاية لن يبقىٰ معك آحدإلا من رأىٰ الجمال...\n",
              "2                 3    pos                                    من الخير نفسه 💛\n",
              "3                 4    pos  #زلزل_الملعب_نصرنا_بيلعب كن عالي الهمه ولا ترض...\n",
              "4                 5    pos  الشيء الوحيد الذي وصلوا فيه للعالمية هو : المس...\n",
              "...             ...    ...                                                ...\n",
              "45269         45270    neg  كيف ترى أورانوس لو كان يقع مكان القمر ؟ 💙💙 كوك...\n",
              "45270         45271    neg                                  احسدك على الايم 💔\n",
              "45271         45272    neg                            لأول مرة ما بنكون سوا 💔\n",
              "45272         45273    neg                                 بقله ليش يا واطي 🤔\n",
              "45273         45274    neg  قد طال صبري في النوى إذ تركتني كئيبا ؛ غريبا ب...\n",
              "\n",
              "[45274 rows x 3 columns]>"
            ]
          },
          "metadata": {},
          "execution_count": 12
        }
      ]
    },
    {
      "cell_type": "code",
      "metadata": {
        "colab": {
          "base_uri": "https://localhost:8080/",
          "height": 300
        },
        "id": "lmx4zxQmFB12",
        "outputId": "f86f8b80-13bc-4544-bed3-9125d0b29855"
      },
      "source": [
        "df.describe()"
      ],
      "execution_count": null,
      "outputs": [
        {
          "output_type": "execute_result",
          "data": {
            "text/html": [
              "\n",
              "  <div id=\"df-97d23ac1-da18-455a-9427-b246127a638e\">\n",
              "    <div class=\"colab-df-container\">\n",
              "      <div>\n",
              "<style scoped>\n",
              "    .dataframe tbody tr th:only-of-type {\n",
              "        vertical-align: middle;\n",
              "    }\n",
              "\n",
              "    .dataframe tbody tr th {\n",
              "        vertical-align: top;\n",
              "    }\n",
              "\n",
              "    .dataframe thead th {\n",
              "        text-align: right;\n",
              "    }\n",
              "</style>\n",
              "<table border=\"1\" class=\"dataframe\">\n",
              "  <thead>\n",
              "    <tr style=\"text-align: right;\">\n",
              "      <th></th>\n",
              "      <th>Tweet Number</th>\n",
              "    </tr>\n",
              "  </thead>\n",
              "  <tbody>\n",
              "    <tr>\n",
              "      <th>count</th>\n",
              "      <td>45274.00000</td>\n",
              "    </tr>\n",
              "    <tr>\n",
              "      <th>mean</th>\n",
              "      <td>22637.50000</td>\n",
              "    </tr>\n",
              "    <tr>\n",
              "      <th>std</th>\n",
              "      <td>13069.62238</td>\n",
              "    </tr>\n",
              "    <tr>\n",
              "      <th>min</th>\n",
              "      <td>1.00000</td>\n",
              "    </tr>\n",
              "    <tr>\n",
              "      <th>25%</th>\n",
              "      <td>11319.25000</td>\n",
              "    </tr>\n",
              "    <tr>\n",
              "      <th>50%</th>\n",
              "      <td>22637.50000</td>\n",
              "    </tr>\n",
              "    <tr>\n",
              "      <th>75%</th>\n",
              "      <td>33955.75000</td>\n",
              "    </tr>\n",
              "    <tr>\n",
              "      <th>max</th>\n",
              "      <td>45274.00000</td>\n",
              "    </tr>\n",
              "  </tbody>\n",
              "</table>\n",
              "</div>\n",
              "      <button class=\"colab-df-convert\" onclick=\"convertToInteractive('df-97d23ac1-da18-455a-9427-b246127a638e')\"\n",
              "              title=\"Convert this dataframe to an interactive table.\"\n",
              "              style=\"display:none;\">\n",
              "        \n",
              "  <svg xmlns=\"http://www.w3.org/2000/svg\" height=\"24px\"viewBox=\"0 0 24 24\"\n",
              "       width=\"24px\">\n",
              "    <path d=\"M0 0h24v24H0V0z\" fill=\"none\"/>\n",
              "    <path d=\"M18.56 5.44l.94 2.06.94-2.06 2.06-.94-2.06-.94-.94-2.06-.94 2.06-2.06.94zm-11 1L8.5 8.5l.94-2.06 2.06-.94-2.06-.94L8.5 2.5l-.94 2.06-2.06.94zm10 10l.94 2.06.94-2.06 2.06-.94-2.06-.94-.94-2.06-.94 2.06-2.06.94z\"/><path d=\"M17.41 7.96l-1.37-1.37c-.4-.4-.92-.59-1.43-.59-.52 0-1.04.2-1.43.59L10.3 9.45l-7.72 7.72c-.78.78-.78 2.05 0 2.83L4 21.41c.39.39.9.59 1.41.59.51 0 1.02-.2 1.41-.59l7.78-7.78 2.81-2.81c.8-.78.8-2.07 0-2.86zM5.41 20L4 18.59l7.72-7.72 1.47 1.35L5.41 20z\"/>\n",
              "  </svg>\n",
              "      </button>\n",
              "      \n",
              "  <style>\n",
              "    .colab-df-container {\n",
              "      display:flex;\n",
              "      flex-wrap:wrap;\n",
              "      gap: 12px;\n",
              "    }\n",
              "\n",
              "    .colab-df-convert {\n",
              "      background-color: #E8F0FE;\n",
              "      border: none;\n",
              "      border-radius: 50%;\n",
              "      cursor: pointer;\n",
              "      display: none;\n",
              "      fill: #1967D2;\n",
              "      height: 32px;\n",
              "      padding: 0 0 0 0;\n",
              "      width: 32px;\n",
              "    }\n",
              "\n",
              "    .colab-df-convert:hover {\n",
              "      background-color: #E2EBFA;\n",
              "      box-shadow: 0px 1px 2px rgba(60, 64, 67, 0.3), 0px 1px 3px 1px rgba(60, 64, 67, 0.15);\n",
              "      fill: #174EA6;\n",
              "    }\n",
              "\n",
              "    [theme=dark] .colab-df-convert {\n",
              "      background-color: #3B4455;\n",
              "      fill: #D2E3FC;\n",
              "    }\n",
              "\n",
              "    [theme=dark] .colab-df-convert:hover {\n",
              "      background-color: #434B5C;\n",
              "      box-shadow: 0px 1px 3px 1px rgba(0, 0, 0, 0.15);\n",
              "      filter: drop-shadow(0px 1px 2px rgba(0, 0, 0, 0.3));\n",
              "      fill: #FFFFFF;\n",
              "    }\n",
              "  </style>\n",
              "\n",
              "      <script>\n",
              "        const buttonEl =\n",
              "          document.querySelector('#df-97d23ac1-da18-455a-9427-b246127a638e button.colab-df-convert');\n",
              "        buttonEl.style.display =\n",
              "          google.colab.kernel.accessAllowed ? 'block' : 'none';\n",
              "\n",
              "        async function convertToInteractive(key) {\n",
              "          const element = document.querySelector('#df-97d23ac1-da18-455a-9427-b246127a638e');\n",
              "          const dataTable =\n",
              "            await google.colab.kernel.invokeFunction('convertToInteractive',\n",
              "                                                     [key], {});\n",
              "          if (!dataTable) return;\n",
              "\n",
              "          const docLinkHtml = 'Like what you see? Visit the ' +\n",
              "            '<a target=\"_blank\" href=https://colab.research.google.com/notebooks/data_table.ipynb>data table notebook</a>'\n",
              "            + ' to learn more about interactive tables.';\n",
              "          element.innerHTML = '';\n",
              "          dataTable['output_type'] = 'display_data';\n",
              "          await google.colab.output.renderOutput(dataTable, element);\n",
              "          const docLink = document.createElement('div');\n",
              "          docLink.innerHTML = docLinkHtml;\n",
              "          element.appendChild(docLink);\n",
              "        }\n",
              "      </script>\n",
              "    </div>\n",
              "  </div>\n",
              "  "
            ],
            "text/plain": [
              "       Tweet Number\n",
              "count   45274.00000\n",
              "mean    22637.50000\n",
              "std     13069.62238\n",
              "min         1.00000\n",
              "25%     11319.25000\n",
              "50%     22637.50000\n",
              "75%     33955.75000\n",
              "max     45274.00000"
            ]
          },
          "metadata": {},
          "execution_count": 13
        }
      ]
    },
    {
      "cell_type": "markdown",
      "metadata": {
        "id": "MqBG09kkb8Qb"
      },
      "source": [
        "## **Preprocessing**\n",
        "\n",
        "\n",
        "1.   Removing non Arabic and special characters. \n",
        "2.   Tokenising the tweets.\n",
        "3.   Removing stop words(insignificant Arabic words)\n"
      ]
    },
    {
      "cell_type": "code",
      "metadata": {
        "id": "f5h5EajjmYVN"
      },
      "source": [
        "# we are creating a function called clean data.In this we are passing parameters tweets and stops.\n",
        "# We have created this function to remove english text,punctuation and numbers.\n",
        "import string\n",
        "arabic_diacritics = re.compile(\"\"\"\n",
        "                             ّ    | # Shadda\n",
        "                             َ    | # Fatha\n",
        "                             ً    | # Tanwin Fath\n",
        "                             ُ    | # Damma\n",
        "                             ٌ    | # Tanwin Damm\n",
        "                             ِ    | # Kasra\n",
        "                             ٍ    | # Tanwin Kasr\n",
        "                             ْ    | # Sukun\n",
        "                             ـ     # Tatwil/Kashida\n",
        "                         \"\"\", re.VERBOSE)\n",
        "punctuations = string.punctuation\n",
        "def clean_data(tweets,stops):\n",
        "    tweet_after_cleaning=[]\n",
        "    for tweet in tweets:\n",
        "        tweet = re.sub(r\"['A-Za-z0-9'\\W+''_']+\",\" \", tweet)\n",
        "        tweet = re.sub(emoji.get_emoji_regexp(), r\"\", tweet)\n",
        "    \n",
        "    # remove Tashkeel\n",
        "        tweet = re.sub(arabic_diacritics, '', tweet)\n",
        "    \n",
        "    #remove elongation\n",
        "        tweet = re.sub(\"[إأآا]\", \"ا\", tweet)\n",
        "        tweet = re.sub(\"ى\", \"ي\", tweet)\n",
        "        tweet = re.sub(\"ؤ\", \"ء\", tweet)\n",
        "        tweet = re.sub(\"ئ\", \"ء\", tweet)\n",
        "        tweet = re.sub(\"ة\", \"ه\", tweet)\n",
        "        tweet = re.sub(\"گ\", \"ك\", tweet)\n",
        "\n",
        "\n",
        "        #return tweet\n",
        "        tweet_tokens=word.simple_word_tokenize(tweet) # tokenizing the tweets\n",
        "        temp=[]\n",
        "        for tweet_token in tweet_tokens:\n",
        "            if not tweet_token in stops:\n",
        "                temp.append(tweet_token)\n",
        "        tweet = \" \".join(temp)\n",
        "        tweet_after_cleaning.append(tweet)\n",
        "        tweet_tokens\n",
        "    return tweet_after_cleaning"
      ],
      "execution_count": null,
      "outputs": []
    },
    {
      "cell_type": "code",
      "metadata": {
        "id": "lzhXC_BxoU9s"
      },
      "source": [
        "# It is a pandas function to turn a HTML table into pandas dataframes.\n",
        "url = 'https://1000mostcommonwords.com/1000-most-common-arabic-words/'\n",
        "df1 = pd.read_html(url)"
      ],
      "execution_count": null,
      "outputs": []
    },
    {
      "cell_type": "code",
      "metadata": {
        "colab": {
          "base_uri": "https://localhost:8080/"
        },
        "id": "kHSsy928CwPR",
        "outputId": "24df2105-b550-42fc-fadf-fdf303aa836a"
      },
      "source": [
        "df1[0][1]"
      ],
      "execution_count": null,
      "outputs": [
        {
          "output_type": "execute_result",
          "data": {
            "text/plain": [
              "0       Arabic\n",
              "1          كما\n",
              "2          أنا\n",
              "3           له\n",
              "4           أن\n",
              "         ...  \n",
              "996      الأنف\n",
              "997      الجمع\n",
              "998        غضب\n",
              "999     مطالبة\n",
              "1000    القارة\n",
              "Name: 1, Length: 1001, dtype: object"
            ]
          },
          "metadata": {},
          "execution_count": 16
        }
      ]
    },
    {
      "cell_type": "code",
      "metadata": {
        "colab": {
          "base_uri": "https://localhost:8080/",
          "height": 35
        },
        "id": "duC5G4GcsRr4",
        "outputId": "32630b39-3840-4eea-a918-66db6ea85570"
      },
      "source": [
        "#We are converting to list and storing it in variable stops \n",
        "stops = df1[0][1].tolist()\n",
        "stops[0]"
      ],
      "execution_count": null,
      "outputs": [
        {
          "output_type": "execute_result",
          "data": {
            "application/vnd.google.colaboratory.intrinsic+json": {
              "type": "string"
            },
            "text/plain": [
              "'Arabic'"
            ]
          },
          "metadata": {},
          "execution_count": 28
        }
      ]
    },
    {
      "cell_type": "code",
      "metadata": {
        "id": "zCjCU7cvsR2_"
      },
      "source": [
        "#We are removing the header word Arabic as it is in english\n",
        "stops.remove(\"Arabic\")\n",
        "# We are appending \"COVIDー\" and \"Covid as most common words\n",
        "stops.append(\"COVID\")\n",
        "stops.append(\"Covid\")"
      ],
      "execution_count": null,
      "outputs": []
    },
    {
      "cell_type": "code",
      "metadata": {
        "id": "agmNKMFHC-4_",
        "colab": {
          "base_uri": "https://localhost:8080/"
        },
        "outputId": "c4600e4d-fb35-4711-d49a-319db3528706"
      },
      "source": [
        "for i in range (-2,10):\n",
        "  print(stops[i])"
      ],
      "execution_count": null,
      "outputs": [
        {
          "output_type": "stream",
          "name": "stdout",
          "text": [
            "COVID\n",
            "Covid\n",
            "كما\n",
            "أنا\n",
            "له\n",
            "أن\n",
            "هو\n",
            "كان\n",
            "إلى\n",
            "في\n",
            "هي\n",
            "مع\n"
          ]
        }
      ]
    },
    {
      "cell_type": "code",
      "metadata": {
        "colab": {
          "base_uri": "https://localhost:8080/"
        },
        "id": "E875jaDFsSBK",
        "outputId": "f040f4c1-6f2b-404d-a263-8f4e04ab87e3"
      },
      "source": [
        "#We are printing the most common arabic words and its meaning in english in the table\n",
        "print(\"Most Common Arabic Words\\n\",df1)"
      ],
      "execution_count": null,
      "outputs": [
        {
          "output_type": "stream",
          "name": "stdout",
          "text": [
            "Most Common Arabic Words\n",
            " [           0       1           2\n",
            "0     Number  Arabic  in English\n",
            "1          1     كما          as\n",
            "2          2     أنا           I\n",
            "3          3      له         his\n",
            "4          4      أن        that\n",
            "...      ...     ...         ...\n",
            "996      996   الأنف        nose\n",
            "997      997   الجمع      plural\n",
            "998      998     غضب       anger\n",
            "999      999  مطالبة       claim\n",
            "1000    1000  القارة   continent\n",
            "\n",
            "[1001 rows x 3 columns]]\n"
          ]
        }
      ]
    },
    {
      "cell_type": "code",
      "metadata": {
        "id": "vVWnx7U8nDNE"
      },
      "source": [
        "#calling the function clean_data\n",
        "df['tweet1']=clean_data(df['Tweet'],stops)  #To improve the data quality we are cleaning the data\n",
        "clean_tweets=clean_data(df['Tweet'],stops)"
      ],
      "execution_count": null,
      "outputs": []
    },
    {
      "cell_type": "code",
      "metadata": {
        "id": "JY5vTAVsHseh",
        "colab": {
          "base_uri": "https://localhost:8080/",
          "height": 423
        },
        "outputId": "9d4ae62d-3245-4212-aef9-0c1ca938299f"
      },
      "source": [
        "df"
      ],
      "execution_count": null,
      "outputs": [
        {
          "output_type": "execute_result",
          "data": {
            "text/html": [
              "\n",
              "  <div id=\"df-689856d0-022e-4204-831e-784ae8e52f7a\">\n",
              "    <div class=\"colab-df-container\">\n",
              "      <div>\n",
              "<style scoped>\n",
              "    .dataframe tbody tr th:only-of-type {\n",
              "        vertical-align: middle;\n",
              "    }\n",
              "\n",
              "    .dataframe tbody tr th {\n",
              "        vertical-align: top;\n",
              "    }\n",
              "\n",
              "    .dataframe thead th {\n",
              "        text-align: right;\n",
              "    }\n",
              "</style>\n",
              "<table border=\"1\" class=\"dataframe\">\n",
              "  <thead>\n",
              "    <tr style=\"text-align: right;\">\n",
              "      <th></th>\n",
              "      <th>Tweet Number</th>\n",
              "      <th>Nature</th>\n",
              "      <th>Tweet</th>\n",
              "      <th>tweet1</th>\n",
              "    </tr>\n",
              "  </thead>\n",
              "  <tbody>\n",
              "    <tr>\n",
              "      <th>0</th>\n",
              "      <td>1</td>\n",
              "      <td>pos</td>\n",
              "      <td>نحن الذين يتحول كل ما نود أن نقوله إلى دعاء لل...</td>\n",
              "      <td>الذين يتحول نود ان نقوله الي دعاء لله تبحثوا ف...</td>\n",
              "    </tr>\n",
              "    <tr>\n",
              "      <th>1</th>\n",
              "      <td>2</td>\n",
              "      <td>pos</td>\n",
              "      <td>وفي النهاية لن يبقىٰ معك آحدإلا من رأىٰ الجمال...</td>\n",
              "      <td>وفي النهايه لن يبقي معك احدالا راي روحك اماالم...</td>\n",
              "    </tr>\n",
              "    <tr>\n",
              "      <th>2</th>\n",
              "      <td>3</td>\n",
              "      <td>pos</td>\n",
              "      <td>من الخير نفسه 💛</td>\n",
              "      <td>الخير</td>\n",
              "    </tr>\n",
              "    <tr>\n",
              "      <th>3</th>\n",
              "      <td>4</td>\n",
              "      <td>pos</td>\n",
              "      <td>#زلزل_الملعب_نصرنا_بيلعب كن عالي الهمه ولا ترض...</td>\n",
              "      <td>زلزل الملعب نصرنا بيلعب كن عالي الهمه ترضي بغي...</td>\n",
              "    </tr>\n",
              "    <tr>\n",
              "      <th>4</th>\n",
              "      <td>5</td>\n",
              "      <td>pos</td>\n",
              "      <td>الشيء الوحيد الذي وصلوا فيه للعالمية هو : المس...</td>\n",
              "      <td>الشيء الوحيد وصلوا فيه للعالميه المسيار تري كا...</td>\n",
              "    </tr>\n",
              "    <tr>\n",
              "      <th>...</th>\n",
              "      <td>...</td>\n",
              "      <td>...</td>\n",
              "      <td>...</td>\n",
              "      <td>...</td>\n",
              "    </tr>\n",
              "    <tr>\n",
              "      <th>45269</th>\n",
              "      <td>45270</td>\n",
              "      <td>neg</td>\n",
              "      <td>كيف ترى أورانوس لو كان يقع مكان القمر ؟ 💙💙 كوك...</td>\n",
              "      <td>تري اورانوس لو يقع القمر بعدا عن الشمس يبلغ قط...</td>\n",
              "    </tr>\n",
              "    <tr>\n",
              "      <th>45270</th>\n",
              "      <td>45271</td>\n",
              "      <td>neg</td>\n",
              "      <td>احسدك على الايم 💔</td>\n",
              "      <td>احسدك علي الايم</td>\n",
              "    </tr>\n",
              "    <tr>\n",
              "      <th>45271</th>\n",
              "      <td>45272</td>\n",
              "      <td>neg</td>\n",
              "      <td>لأول مرة ما بنكون سوا 💔</td>\n",
              "      <td>لاول مره بنكون سوا</td>\n",
              "    </tr>\n",
              "    <tr>\n",
              "      <th>45272</th>\n",
              "      <td>45273</td>\n",
              "      <td>neg</td>\n",
              "      <td>بقله ليش يا واطي 🤔</td>\n",
              "      <td>بقله ليش واطي</td>\n",
              "    </tr>\n",
              "    <tr>\n",
              "      <th>45273</th>\n",
              "      <td>45274</td>\n",
              "      <td>neg</td>\n",
              "      <td>قد طال صبري في النوى إذ تركتني كئيبا ؛ غريبا ب...</td>\n",
              "      <td>طال صبري النوي اذ تركتني كءيبا غريبا باكيا متو...</td>\n",
              "    </tr>\n",
              "  </tbody>\n",
              "</table>\n",
              "<p>45274 rows × 4 columns</p>\n",
              "</div>\n",
              "      <button class=\"colab-df-convert\" onclick=\"convertToInteractive('df-689856d0-022e-4204-831e-784ae8e52f7a')\"\n",
              "              title=\"Convert this dataframe to an interactive table.\"\n",
              "              style=\"display:none;\">\n",
              "        \n",
              "  <svg xmlns=\"http://www.w3.org/2000/svg\" height=\"24px\"viewBox=\"0 0 24 24\"\n",
              "       width=\"24px\">\n",
              "    <path d=\"M0 0h24v24H0V0z\" fill=\"none\"/>\n",
              "    <path d=\"M18.56 5.44l.94 2.06.94-2.06 2.06-.94-2.06-.94-.94-2.06-.94 2.06-2.06.94zm-11 1L8.5 8.5l.94-2.06 2.06-.94-2.06-.94L8.5 2.5l-.94 2.06-2.06.94zm10 10l.94 2.06.94-2.06 2.06-.94-2.06-.94-.94-2.06-.94 2.06-2.06.94z\"/><path d=\"M17.41 7.96l-1.37-1.37c-.4-.4-.92-.59-1.43-.59-.52 0-1.04.2-1.43.59L10.3 9.45l-7.72 7.72c-.78.78-.78 2.05 0 2.83L4 21.41c.39.39.9.59 1.41.59.51 0 1.02-.2 1.41-.59l7.78-7.78 2.81-2.81c.8-.78.8-2.07 0-2.86zM5.41 20L4 18.59l7.72-7.72 1.47 1.35L5.41 20z\"/>\n",
              "  </svg>\n",
              "      </button>\n",
              "      \n",
              "  <style>\n",
              "    .colab-df-container {\n",
              "      display:flex;\n",
              "      flex-wrap:wrap;\n",
              "      gap: 12px;\n",
              "    }\n",
              "\n",
              "    .colab-df-convert {\n",
              "      background-color: #E8F0FE;\n",
              "      border: none;\n",
              "      border-radius: 50%;\n",
              "      cursor: pointer;\n",
              "      display: none;\n",
              "      fill: #1967D2;\n",
              "      height: 32px;\n",
              "      padding: 0 0 0 0;\n",
              "      width: 32px;\n",
              "    }\n",
              "\n",
              "    .colab-df-convert:hover {\n",
              "      background-color: #E2EBFA;\n",
              "      box-shadow: 0px 1px 2px rgba(60, 64, 67, 0.3), 0px 1px 3px 1px rgba(60, 64, 67, 0.15);\n",
              "      fill: #174EA6;\n",
              "    }\n",
              "\n",
              "    [theme=dark] .colab-df-convert {\n",
              "      background-color: #3B4455;\n",
              "      fill: #D2E3FC;\n",
              "    }\n",
              "\n",
              "    [theme=dark] .colab-df-convert:hover {\n",
              "      background-color: #434B5C;\n",
              "      box-shadow: 0px 1px 3px 1px rgba(0, 0, 0, 0.15);\n",
              "      filter: drop-shadow(0px 1px 2px rgba(0, 0, 0, 0.3));\n",
              "      fill: #FFFFFF;\n",
              "    }\n",
              "  </style>\n",
              "\n",
              "      <script>\n",
              "        const buttonEl =\n",
              "          document.querySelector('#df-689856d0-022e-4204-831e-784ae8e52f7a button.colab-df-convert');\n",
              "        buttonEl.style.display =\n",
              "          google.colab.kernel.accessAllowed ? 'block' : 'none';\n",
              "\n",
              "        async function convertToInteractive(key) {\n",
              "          const element = document.querySelector('#df-689856d0-022e-4204-831e-784ae8e52f7a');\n",
              "          const dataTable =\n",
              "            await google.colab.kernel.invokeFunction('convertToInteractive',\n",
              "                                                     [key], {});\n",
              "          if (!dataTable) return;\n",
              "\n",
              "          const docLinkHtml = 'Like what you see? Visit the ' +\n",
              "            '<a target=\"_blank\" href=https://colab.research.google.com/notebooks/data_table.ipynb>data table notebook</a>'\n",
              "            + ' to learn more about interactive tables.';\n",
              "          element.innerHTML = '';\n",
              "          dataTable['output_type'] = 'display_data';\n",
              "          await google.colab.output.renderOutput(dataTable, element);\n",
              "          const docLink = document.createElement('div');\n",
              "          docLink.innerHTML = docLinkHtml;\n",
              "          element.appendChild(docLink);\n",
              "        }\n",
              "      </script>\n",
              "    </div>\n",
              "  </div>\n",
              "  "
            ],
            "text/plain": [
              "       Tweet Number  ...                                             tweet1\n",
              "0                 1  ...  الذين يتحول نود ان نقوله الي دعاء لله تبحثوا ف...\n",
              "1                 2  ...  وفي النهايه لن يبقي معك احدالا راي روحك اماالم...\n",
              "2                 3  ...                                              الخير\n",
              "3                 4  ...  زلزل الملعب نصرنا بيلعب كن عالي الهمه ترضي بغي...\n",
              "4                 5  ...  الشيء الوحيد وصلوا فيه للعالميه المسيار تري كا...\n",
              "...             ...  ...                                                ...\n",
              "45269         45270  ...  تري اورانوس لو يقع القمر بعدا عن الشمس يبلغ قط...\n",
              "45270         45271  ...                                    احسدك علي الايم\n",
              "45271         45272  ...                                 لاول مره بنكون سوا\n",
              "45272         45273  ...                                      بقله ليش واطي\n",
              "45273         45274  ...  طال صبري النوي اذ تركتني كءيبا غريبا باكيا متو...\n",
              "\n",
              "[45274 rows x 4 columns]"
            ]
          },
          "metadata": {},
          "execution_count": 33
        }
      ]
    },
    {
      "cell_type": "code",
      "metadata": {
        "id": "G0V2tKTkt2rc"
      },
      "source": [
        "import nltk\n",
        "from nltk.corpus import wordnet\n",
        "from nltk.stem import WordNetLemmatizer\n",
        "w_tokenizer = nltk.tokenize.WhitespaceTokenizer()\n",
        "lemmatizer = WordNetLemmatizer()\n",
        "def lemmatize_text(text):\n",
        "  return [lemmatizer.lemmatize(word,'v') for word in w_tokenizer.tokenize(text)]"
      ],
      "execution_count": null,
      "outputs": []
    },
    {
      "cell_type": "code",
      "metadata": {
        "id": "dF9mxsHDuFjO",
        "colab": {
          "base_uri": "https://localhost:8080/",
          "height": 1151
        },
        "outputId": "f200e825-a410-4860-df91-8d9859b2ad30"
      },
      "source": [
        "df['Processed_text']=df.tweet1.apply(lemmatize_text)\n",
        "df"
      ],
      "execution_count": null,
      "outputs": [
        {
          "output_type": "execute_result",
          "data": {
            "text/html": [
              "\n",
              "  <div id=\"df-287b91fa-52de-4255-822d-20ba1c40522a\">\n",
              "    <div class=\"colab-df-container\">\n",
              "      <div>\n",
              "<style scoped>\n",
              "    .dataframe tbody tr th:only-of-type {\n",
              "        vertical-align: middle;\n",
              "    }\n",
              "\n",
              "    .dataframe tbody tr th {\n",
              "        vertical-align: top;\n",
              "    }\n",
              "\n",
              "    .dataframe thead th {\n",
              "        text-align: right;\n",
              "    }\n",
              "</style>\n",
              "<table border=\"1\" class=\"dataframe\">\n",
              "  <thead>\n",
              "    <tr style=\"text-align: right;\">\n",
              "      <th></th>\n",
              "      <th>Tweet Number</th>\n",
              "      <th>Nature</th>\n",
              "      <th>Tweet</th>\n",
              "      <th>tweet1</th>\n",
              "      <th>Processed_text</th>\n",
              "    </tr>\n",
              "  </thead>\n",
              "  <tbody>\n",
              "    <tr>\n",
              "      <th>0</th>\n",
              "      <td>1</td>\n",
              "      <td>pos</td>\n",
              "      <td>نحن الذين يتحول كل ما نود أن نقوله إلى دعاء لل...</td>\n",
              "      <td>الذين يتحول نود ان نقوله الي دعاء لله تبحثوا ف...</td>\n",
              "      <td>[الذين, يتحول, نود, ان, نقوله, الي, دعاء, لله,...</td>\n",
              "    </tr>\n",
              "    <tr>\n",
              "      <th>1</th>\n",
              "      <td>2</td>\n",
              "      <td>pos</td>\n",
              "      <td>وفي النهاية لن يبقىٰ معك آحدإلا من رأىٰ الجمال...</td>\n",
              "      <td>وفي النهايه لن يبقي معك احدالا راي روحك اماالم...</td>\n",
              "      <td>[وفي, النهايه, لن, يبقي, معك, احدالا, راي, روح...</td>\n",
              "    </tr>\n",
              "    <tr>\n",
              "      <th>2</th>\n",
              "      <td>3</td>\n",
              "      <td>pos</td>\n",
              "      <td>من الخير نفسه 💛</td>\n",
              "      <td>الخير</td>\n",
              "      <td>[الخير]</td>\n",
              "    </tr>\n",
              "    <tr>\n",
              "      <th>3</th>\n",
              "      <td>4</td>\n",
              "      <td>pos</td>\n",
              "      <td>#زلزل_الملعب_نصرنا_بيلعب كن عالي الهمه ولا ترض...</td>\n",
              "      <td>زلزل الملعب نصرنا بيلعب كن عالي الهمه ترضي بغي...</td>\n",
              "      <td>[زلزل, الملعب, نصرنا, بيلعب, كن, عالي, الهمه, ...</td>\n",
              "    </tr>\n",
              "    <tr>\n",
              "      <th>4</th>\n",
              "      <td>5</td>\n",
              "      <td>pos</td>\n",
              "      <td>الشيء الوحيد الذي وصلوا فيه للعالمية هو : المس...</td>\n",
              "      <td>الشيء الوحيد وصلوا فيه للعالميه المسيار تري كا...</td>\n",
              "      <td>[الشيء, الوحيد, وصلوا, فيه, للعالميه, المسيار,...</td>\n",
              "    </tr>\n",
              "    <tr>\n",
              "      <th>...</th>\n",
              "      <td>...</td>\n",
              "      <td>...</td>\n",
              "      <td>...</td>\n",
              "      <td>...</td>\n",
              "      <td>...</td>\n",
              "    </tr>\n",
              "    <tr>\n",
              "      <th>45269</th>\n",
              "      <td>45270</td>\n",
              "      <td>neg</td>\n",
              "      <td>كيف ترى أورانوس لو كان يقع مكان القمر ؟ 💙💙 كوك...</td>\n",
              "      <td>تري اورانوس لو يقع القمر بعدا عن الشمس يبلغ قط...</td>\n",
              "      <td>[تري, اورانوس, لو, يقع, القمر, بعدا, عن, الشمس...</td>\n",
              "    </tr>\n",
              "    <tr>\n",
              "      <th>45270</th>\n",
              "      <td>45271</td>\n",
              "      <td>neg</td>\n",
              "      <td>احسدك على الايم 💔</td>\n",
              "      <td>احسدك علي الايم</td>\n",
              "      <td>[احسدك, علي, الايم]</td>\n",
              "    </tr>\n",
              "    <tr>\n",
              "      <th>45271</th>\n",
              "      <td>45272</td>\n",
              "      <td>neg</td>\n",
              "      <td>لأول مرة ما بنكون سوا 💔</td>\n",
              "      <td>لاول مره بنكون سوا</td>\n",
              "      <td>[لاول, مره, بنكون, سوا]</td>\n",
              "    </tr>\n",
              "    <tr>\n",
              "      <th>45272</th>\n",
              "      <td>45273</td>\n",
              "      <td>neg</td>\n",
              "      <td>بقله ليش يا واطي 🤔</td>\n",
              "      <td>بقله ليش واطي</td>\n",
              "      <td>[بقله, ليش, واطي]</td>\n",
              "    </tr>\n",
              "    <tr>\n",
              "      <th>45273</th>\n",
              "      <td>45274</td>\n",
              "      <td>neg</td>\n",
              "      <td>قد طال صبري في النوى إذ تركتني كئيبا ؛ غريبا ب...</td>\n",
              "      <td>طال صبري النوي اذ تركتني كءيبا غريبا باكيا متو...</td>\n",
              "      <td>[طال, صبري, النوي, اذ, تركتني, كءيبا, غريبا, ب...</td>\n",
              "    </tr>\n",
              "  </tbody>\n",
              "</table>\n",
              "<p>45274 rows × 5 columns</p>\n",
              "</div>\n",
              "      <button class=\"colab-df-convert\" onclick=\"convertToInteractive('df-287b91fa-52de-4255-822d-20ba1c40522a')\"\n",
              "              title=\"Convert this dataframe to an interactive table.\"\n",
              "              style=\"display:none;\">\n",
              "        \n",
              "  <svg xmlns=\"http://www.w3.org/2000/svg\" height=\"24px\"viewBox=\"0 0 24 24\"\n",
              "       width=\"24px\">\n",
              "    <path d=\"M0 0h24v24H0V0z\" fill=\"none\"/>\n",
              "    <path d=\"M18.56 5.44l.94 2.06.94-2.06 2.06-.94-2.06-.94-.94-2.06-.94 2.06-2.06.94zm-11 1L8.5 8.5l.94-2.06 2.06-.94-2.06-.94L8.5 2.5l-.94 2.06-2.06.94zm10 10l.94 2.06.94-2.06 2.06-.94-2.06-.94-.94-2.06-.94 2.06-2.06.94z\"/><path d=\"M17.41 7.96l-1.37-1.37c-.4-.4-.92-.59-1.43-.59-.52 0-1.04.2-1.43.59L10.3 9.45l-7.72 7.72c-.78.78-.78 2.05 0 2.83L4 21.41c.39.39.9.59 1.41.59.51 0 1.02-.2 1.41-.59l7.78-7.78 2.81-2.81c.8-.78.8-2.07 0-2.86zM5.41 20L4 18.59l7.72-7.72 1.47 1.35L5.41 20z\"/>\n",
              "  </svg>\n",
              "      </button>\n",
              "      \n",
              "  <style>\n",
              "    .colab-df-container {\n",
              "      display:flex;\n",
              "      flex-wrap:wrap;\n",
              "      gap: 12px;\n",
              "    }\n",
              "\n",
              "    .colab-df-convert {\n",
              "      background-color: #E8F0FE;\n",
              "      border: none;\n",
              "      border-radius: 50%;\n",
              "      cursor: pointer;\n",
              "      display: none;\n",
              "      fill: #1967D2;\n",
              "      height: 32px;\n",
              "      padding: 0 0 0 0;\n",
              "      width: 32px;\n",
              "    }\n",
              "\n",
              "    .colab-df-convert:hover {\n",
              "      background-color: #E2EBFA;\n",
              "      box-shadow: 0px 1px 2px rgba(60, 64, 67, 0.3), 0px 1px 3px 1px rgba(60, 64, 67, 0.15);\n",
              "      fill: #174EA6;\n",
              "    }\n",
              "\n",
              "    [theme=dark] .colab-df-convert {\n",
              "      background-color: #3B4455;\n",
              "      fill: #D2E3FC;\n",
              "    }\n",
              "\n",
              "    [theme=dark] .colab-df-convert:hover {\n",
              "      background-color: #434B5C;\n",
              "      box-shadow: 0px 1px 3px 1px rgba(0, 0, 0, 0.15);\n",
              "      filter: drop-shadow(0px 1px 2px rgba(0, 0, 0, 0.3));\n",
              "      fill: #FFFFFF;\n",
              "    }\n",
              "  </style>\n",
              "\n",
              "      <script>\n",
              "        const buttonEl =\n",
              "          document.querySelector('#df-287b91fa-52de-4255-822d-20ba1c40522a button.colab-df-convert');\n",
              "        buttonEl.style.display =\n",
              "          google.colab.kernel.accessAllowed ? 'block' : 'none';\n",
              "\n",
              "        async function convertToInteractive(key) {\n",
              "          const element = document.querySelector('#df-287b91fa-52de-4255-822d-20ba1c40522a');\n",
              "          const dataTable =\n",
              "            await google.colab.kernel.invokeFunction('convertToInteractive',\n",
              "                                                     [key], {});\n",
              "          if (!dataTable) return;\n",
              "\n",
              "          const docLinkHtml = 'Like what you see? Visit the ' +\n",
              "            '<a target=\"_blank\" href=https://colab.research.google.com/notebooks/data_table.ipynb>data table notebook</a>'\n",
              "            + ' to learn more about interactive tables.';\n",
              "          element.innerHTML = '';\n",
              "          dataTable['output_type'] = 'display_data';\n",
              "          await google.colab.output.renderOutput(dataTable, element);\n",
              "          const docLink = document.createElement('div');\n",
              "          docLink.innerHTML = docLinkHtml;\n",
              "          element.appendChild(docLink);\n",
              "        }\n",
              "      </script>\n",
              "    </div>\n",
              "  </div>\n",
              "  "
            ],
            "text/plain": [
              "       Tweet Number  ...                                     Processed_text\n",
              "0                 1  ...  [الذين, يتحول, نود, ان, نقوله, الي, دعاء, لله,...\n",
              "1                 2  ...  [وفي, النهايه, لن, يبقي, معك, احدالا, راي, روح...\n",
              "2                 3  ...                                            [الخير]\n",
              "3                 4  ...  [زلزل, الملعب, نصرنا, بيلعب, كن, عالي, الهمه, ...\n",
              "4                 5  ...  [الشيء, الوحيد, وصلوا, فيه, للعالميه, المسيار,...\n",
              "...             ...  ...                                                ...\n",
              "45269         45270  ...  [تري, اورانوس, لو, يقع, القمر, بعدا, عن, الشمس...\n",
              "45270         45271  ...                                [احسدك, علي, الايم]\n",
              "45271         45272  ...                            [لاول, مره, بنكون, سوا]\n",
              "45272         45273  ...                                  [بقله, ليش, واطي]\n",
              "45273         45274  ...  [طال, صبري, النوي, اذ, تركتني, كءيبا, غريبا, ب...\n",
              "\n",
              "[45274 rows x 5 columns]"
            ]
          },
          "metadata": {},
          "execution_count": 50
        },
        {
          "output_type": "stream",
          "name": "stdout",
          "text": [
            "Warning: total number of rows (45274) exceeds max_rows (20000). Limiting to first (20000) rows.\n"
          ]
        }
      ]
    },
    {
      "cell_type": "markdown",
      "metadata": {
        "id": "1GzWkHO2eJDd"
      },
      "source": [
        "\n",
        "## **Processing** \n",
        " 1.   Tf-Idf Vectorization\n",
        " 2.   Performing SVD to reduce matrix dimension\n",
        " 3.   Label Encoding "
      ]
    },
    {
      "cell_type": "markdown",
      "metadata": {
        "id": "WG8hDPhtI2xK"
      },
      "source": [
        "\n",
        "**Tf-Idf** \n",
        "  \n",
        "![image.png](data:image/png;base64,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)\n"
      ]
    },
    {
      "cell_type": "markdown",
      "metadata": {
        "id": "Iy7bEam3J8sI"
      },
      "source": [
        "**Truncated SVD**\n",
        "\n",
        "Till now, we saw that singular value decomposition breaks any matrix A down so that A = U*Sigmal*V^T.\n",
        "\n",
        "![image.png](data:image/png;base64,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)\n",
        "\n",
        "Where,\n",
        "\n",
        "![image.png](data:image/png;base64,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)\n",
        "\n",
        "are the singular values of the matrix A with rank r.\n",
        "\n",
        "\n",
        "We can find truncated SVD to A by setting all but the first k largest singular values equal to zero and using only the first k columns of U and V."
      ]
    },
    {
      "cell_type": "code",
      "metadata": {
        "id": "GqE3ZjM2uWz7"
      },
      "source": [
        "def processing(Processed_text):\n",
        "    tv = TfidfVectorizer(stop_words=stops)    \n",
        "    tv_score = tv.fit_transform(Processed_text)    \n",
        "    print(\"Shape of TF-IDF matrix :\",np.shape(tv_score))\n",
        "                                                        # We used TruncatedSVD which is different from normal svd.\n",
        "                                                        # Because Svd will produce matrix with n coloumns where truncated SVD will produce matrices with the specified number of columns.\n",
        "    svd = TruncatedSVD(n_components=20, random_state=42)                    \n",
        "    X = svd.fit_transform(tv_score)                       \n",
        "    print(\"Shape of TF-IDF matrix after performing SVD :\",np.shape(X)) #shape of the matrix after reduction\n",
        "    return X\n"
      ],
      "execution_count": null,
      "outputs": []
    },
    {
      "cell_type": "code",
      "metadata": {
        "id": "LxYTFUFxybbX",
        "colab": {
          "base_uri": "https://localhost:8080/",
          "height": 423
        },
        "outputId": "3c9242ed-60b4-4f69-abee-ac43431466c4"
      },
      "source": [
        "df=df.replace('pos',1)        # replacing Positive values with 1 \n",
        "df=df.replace('neg', 0)      # replacing Negative values with 0\n",
        "df\n"
      ],
      "execution_count": null,
      "outputs": [
        {
          "output_type": "execute_result",
          "data": {
            "text/html": [
              "\n",
              "  <div id=\"df-93877ef1-4e19-4fa5-9d63-6b15e9b8b4c9\">\n",
              "    <div class=\"colab-df-container\">\n",
              "      <div>\n",
              "<style scoped>\n",
              "    .dataframe tbody tr th:only-of-type {\n",
              "        vertical-align: middle;\n",
              "    }\n",
              "\n",
              "    .dataframe tbody tr th {\n",
              "        vertical-align: top;\n",
              "    }\n",
              "\n",
              "    .dataframe thead th {\n",
              "        text-align: right;\n",
              "    }\n",
              "</style>\n",
              "<table border=\"1\" class=\"dataframe\">\n",
              "  <thead>\n",
              "    <tr style=\"text-align: right;\">\n",
              "      <th></th>\n",
              "      <th>Tweet Number</th>\n",
              "      <th>Nature</th>\n",
              "      <th>Tweet</th>\n",
              "      <th>tweet1</th>\n",
              "      <th>Processed_text</th>\n",
              "    </tr>\n",
              "  </thead>\n",
              "  <tbody>\n",
              "    <tr>\n",
              "      <th>0</th>\n",
              "      <td>1</td>\n",
              "      <td>1</td>\n",
              "      <td>نحن الذين يتحول كل ما نود أن نقوله إلى دعاء لل...</td>\n",
              "      <td>الذين يتحول نود ان نقوله الي دعاء لله تبحثوا ف...</td>\n",
              "      <td>[الذين, يتحول, نود, ان, نقوله, الي, دعاء, لله,...</td>\n",
              "    </tr>\n",
              "    <tr>\n",
              "      <th>1</th>\n",
              "      <td>2</td>\n",
              "      <td>1</td>\n",
              "      <td>وفي النهاية لن يبقىٰ معك آحدإلا من رأىٰ الجمال...</td>\n",
              "      <td>وفي النهايه لن يبقي معك احدالا راي روحك اماالم...</td>\n",
              "      <td>[وفي, النهايه, لن, يبقي, معك, احدالا, راي, روح...</td>\n",
              "    </tr>\n",
              "    <tr>\n",
              "      <th>2</th>\n",
              "      <td>3</td>\n",
              "      <td>1</td>\n",
              "      <td>من الخير نفسه 💛</td>\n",
              "      <td>الخير</td>\n",
              "      <td>[الخير]</td>\n",
              "    </tr>\n",
              "    <tr>\n",
              "      <th>3</th>\n",
              "      <td>4</td>\n",
              "      <td>1</td>\n",
              "      <td>#زلزل_الملعب_نصرنا_بيلعب كن عالي الهمه ولا ترض...</td>\n",
              "      <td>زلزل الملعب نصرنا بيلعب كن عالي الهمه ترضي بغي...</td>\n",
              "      <td>[زلزل, الملعب, نصرنا, بيلعب, كن, عالي, الهمه, ...</td>\n",
              "    </tr>\n",
              "    <tr>\n",
              "      <th>4</th>\n",
              "      <td>5</td>\n",
              "      <td>1</td>\n",
              "      <td>الشيء الوحيد الذي وصلوا فيه للعالمية هو : المس...</td>\n",
              "      <td>الشيء الوحيد وصلوا فيه للعالميه المسيار تري كا...</td>\n",
              "      <td>[الشيء, الوحيد, وصلوا, فيه, للعالميه, المسيار,...</td>\n",
              "    </tr>\n",
              "    <tr>\n",
              "      <th>...</th>\n",
              "      <td>...</td>\n",
              "      <td>...</td>\n",
              "      <td>...</td>\n",
              "      <td>...</td>\n",
              "      <td>...</td>\n",
              "    </tr>\n",
              "    <tr>\n",
              "      <th>45269</th>\n",
              "      <td>45270</td>\n",
              "      <td>0</td>\n",
              "      <td>كيف ترى أورانوس لو كان يقع مكان القمر ؟ 💙💙 كوك...</td>\n",
              "      <td>تري اورانوس لو يقع القمر بعدا عن الشمس يبلغ قط...</td>\n",
              "      <td>[تري, اورانوس, لو, يقع, القمر, بعدا, عن, الشمس...</td>\n",
              "    </tr>\n",
              "    <tr>\n",
              "      <th>45270</th>\n",
              "      <td>45271</td>\n",
              "      <td>0</td>\n",
              "      <td>احسدك على الايم 💔</td>\n",
              "      <td>احسدك علي الايم</td>\n",
              "      <td>[احسدك, علي, الايم]</td>\n",
              "    </tr>\n",
              "    <tr>\n",
              "      <th>45271</th>\n",
              "      <td>45272</td>\n",
              "      <td>0</td>\n",
              "      <td>لأول مرة ما بنكون سوا 💔</td>\n",
              "      <td>لاول مره بنكون سوا</td>\n",
              "      <td>[لاول, مره, بنكون, سوا]</td>\n",
              "    </tr>\n",
              "    <tr>\n",
              "      <th>45272</th>\n",
              "      <td>45273</td>\n",
              "      <td>0</td>\n",
              "      <td>بقله ليش يا واطي 🤔</td>\n",
              "      <td>بقله ليش واطي</td>\n",
              "      <td>[بقله, ليش, واطي]</td>\n",
              "    </tr>\n",
              "    <tr>\n",
              "      <th>45273</th>\n",
              "      <td>45274</td>\n",
              "      <td>0</td>\n",
              "      <td>قد طال صبري في النوى إذ تركتني كئيبا ؛ غريبا ب...</td>\n",
              "      <td>طال صبري النوي اذ تركتني كءيبا غريبا باكيا متو...</td>\n",
              "      <td>[طال, صبري, النوي, اذ, تركتني, كءيبا, غريبا, ب...</td>\n",
              "    </tr>\n",
              "  </tbody>\n",
              "</table>\n",
              "<p>45274 rows × 5 columns</p>\n",
              "</div>\n",
              "      <button class=\"colab-df-convert\" onclick=\"convertToInteractive('df-93877ef1-4e19-4fa5-9d63-6b15e9b8b4c9')\"\n",
              "              title=\"Convert this dataframe to an interactive table.\"\n",
              "              style=\"display:none;\">\n",
              "        \n",
              "  <svg xmlns=\"http://www.w3.org/2000/svg\" height=\"24px\"viewBox=\"0 0 24 24\"\n",
              "       width=\"24px\">\n",
              "    <path d=\"M0 0h24v24H0V0z\" fill=\"none\"/>\n",
              "    <path d=\"M18.56 5.44l.94 2.06.94-2.06 2.06-.94-2.06-.94-.94-2.06-.94 2.06-2.06.94zm-11 1L8.5 8.5l.94-2.06 2.06-.94-2.06-.94L8.5 2.5l-.94 2.06-2.06.94zm10 10l.94 2.06.94-2.06 2.06-.94-2.06-.94-.94-2.06-.94 2.06-2.06.94z\"/><path d=\"M17.41 7.96l-1.37-1.37c-.4-.4-.92-.59-1.43-.59-.52 0-1.04.2-1.43.59L10.3 9.45l-7.72 7.72c-.78.78-.78 2.05 0 2.83L4 21.41c.39.39.9.59 1.41.59.51 0 1.02-.2 1.41-.59l7.78-7.78 2.81-2.81c.8-.78.8-2.07 0-2.86zM5.41 20L4 18.59l7.72-7.72 1.47 1.35L5.41 20z\"/>\n",
              "  </svg>\n",
              "      </button>\n",
              "      \n",
              "  <style>\n",
              "    .colab-df-container {\n",
              "      display:flex;\n",
              "      flex-wrap:wrap;\n",
              "      gap: 12px;\n",
              "    }\n",
              "\n",
              "    .colab-df-convert {\n",
              "      background-color: #E8F0FE;\n",
              "      border: none;\n",
              "      border-radius: 50%;\n",
              "      cursor: pointer;\n",
              "      display: none;\n",
              "      fill: #1967D2;\n",
              "      height: 32px;\n",
              "      padding: 0 0 0 0;\n",
              "      width: 32px;\n",
              "    }\n",
              "\n",
              "    .colab-df-convert:hover {\n",
              "      background-color: #E2EBFA;\n",
              "      box-shadow: 0px 1px 2px rgba(60, 64, 67, 0.3), 0px 1px 3px 1px rgba(60, 64, 67, 0.15);\n",
              "      fill: #174EA6;\n",
              "    }\n",
              "\n",
              "    [theme=dark] .colab-df-convert {\n",
              "      background-color: #3B4455;\n",
              "      fill: #D2E3FC;\n",
              "    }\n",
              "\n",
              "    [theme=dark] .colab-df-convert:hover {\n",
              "      background-color: #434B5C;\n",
              "      box-shadow: 0px 1px 3px 1px rgba(0, 0, 0, 0.15);\n",
              "      filter: drop-shadow(0px 1px 2px rgba(0, 0, 0, 0.3));\n",
              "      fill: #FFFFFF;\n",
              "    }\n",
              "  </style>\n",
              "\n",
              "      <script>\n",
              "        const buttonEl =\n",
              "          document.querySelector('#df-93877ef1-4e19-4fa5-9d63-6b15e9b8b4c9 button.colab-df-convert');\n",
              "        buttonEl.style.display =\n",
              "          google.colab.kernel.accessAllowed ? 'block' : 'none';\n",
              "\n",
              "        async function convertToInteractive(key) {\n",
              "          const element = document.querySelector('#df-93877ef1-4e19-4fa5-9d63-6b15e9b8b4c9');\n",
              "          const dataTable =\n",
              "            await google.colab.kernel.invokeFunction('convertToInteractive',\n",
              "                                                     [key], {});\n",
              "          if (!dataTable) return;\n",
              "\n",
              "          const docLinkHtml = 'Like what you see? Visit the ' +\n",
              "            '<a target=\"_blank\" href=https://colab.research.google.com/notebooks/data_table.ipynb>data table notebook</a>'\n",
              "            + ' to learn more about interactive tables.';\n",
              "          element.innerHTML = '';\n",
              "          dataTable['output_type'] = 'display_data';\n",
              "          await google.colab.output.renderOutput(dataTable, element);\n",
              "          const docLink = document.createElement('div');\n",
              "          docLink.innerHTML = docLinkHtml;\n",
              "          element.appendChild(docLink);\n",
              "        }\n",
              "      </script>\n",
              "    </div>\n",
              "  </div>\n",
              "  "
            ],
            "text/plain": [
              "       Tweet Number  ...                                     Processed_text\n",
              "0                 1  ...  [الذين, يتحول, نود, ان, نقوله, الي, دعاء, لله,...\n",
              "1                 2  ...  [وفي, النهايه, لن, يبقي, معك, احدالا, راي, روح...\n",
              "2                 3  ...                                            [الخير]\n",
              "3                 4  ...  [زلزل, الملعب, نصرنا, بيلعب, كن, عالي, الهمه, ...\n",
              "4                 5  ...  [الشيء, الوحيد, وصلوا, فيه, للعالميه, المسيار,...\n",
              "...             ...  ...                                                ...\n",
              "45269         45270  ...  [تري, اورانوس, لو, يقع, القمر, بعدا, عن, الشمس...\n",
              "45270         45271  ...                                [احسدك, علي, الايم]\n",
              "45271         45272  ...                            [لاول, مره, بنكون, سوا]\n",
              "45272         45273  ...                                  [بقله, ليش, واطي]\n",
              "45273         45274  ...  [طال, صبري, النوي, اذ, تركتني, كءيبا, غريبا, ب...\n",
              "\n",
              "[45274 rows x 5 columns]"
            ]
          },
          "metadata": {},
          "execution_count": 64
        }
      ]
    },
    {
      "cell_type": "code",
      "metadata": {
        "id": "Odc8LP__zoPW",
        "colab": {
          "base_uri": "https://localhost:8080/"
        },
        "outputId": "f268404a-15bf-40f8-aafb-a660a44b6c60"
      },
      "source": [
        "y =df[['Nature']]                                                                 # selecting columns with label values\n",
        "X=processing(clean_tweets)                                                        # Processing - to get tf-idf matrix and reduce the dimension\n",
        "X"
      ],
      "execution_count": null,
      "outputs": [
        {
          "output_type": "stream",
          "name": "stderr",
          "text": [
            "/usr/local/lib/python3.7/dist-packages/sklearn/feature_extraction/text.py:401: UserWarning: Your stop_words may be inconsistent with your preprocessing. Tokenizing the stop words generated tokens ['covid', 'أخرى', 'إطار', 'الأمام', 'الإدارة', 'الحرارة', 'الحصول', 'الرغم', 'الساعة', 'العجلة', 'القمر', 'الكفاية', 'بصوت', 'بما', 'تحتوي', 'جمال', 'حديدية', 'حين', 'ربطة', 'سكة', 'عال', 'عنق', 'فيه', 'لفظي', 'لين', 'مبكر', 'مجلس', 'مدار', 'مرة', 'مقطع', 'ملكة', 'نطاق', 'واحدة', 'وقت', 'يزال'] not in stop_words.\n",
            "  % sorted(inconsistent)\n"
          ]
        },
        {
          "output_type": "stream",
          "name": "stdout",
          "text": [
            "Shape of TF-IDF matrix : (45274, 62192)\n",
            "Shape of TF-IDF matrix after performing SVD : (45274, 20)\n"
          ]
        },
        {
          "output_type": "execute_result",
          "data": {
            "text/plain": [
              "array([[ 1.59142238e-02,  5.45685213e-03,  8.11727929e-02, ...,\n",
              "         1.17590491e-02,  4.53405944e-02, -5.20463180e-03],\n",
              "       [ 2.83279947e-03,  9.00168610e-04,  4.98655031e-03, ...,\n",
              "         2.61676844e-03,  5.42842512e-03, -4.36165829e-03],\n",
              "       [ 3.19460834e-01,  5.08602460e-01, -7.12158629e-02, ...,\n",
              "         9.44122621e-02, -2.90513266e-02, -9.88786955e-02],\n",
              "       ...,\n",
              "       [ 1.31297853e-03,  1.08815764e-04,  2.72396117e-03, ...,\n",
              "         1.89514395e-03,  3.79031306e-03, -3.26791834e-03],\n",
              "       [ 8.77605148e-04,  3.33988490e-05,  1.81685628e-03, ...,\n",
              "         1.89569661e-04,  1.17329874e-03, -3.13355427e-03],\n",
              "       [ 7.53602013e-03,  2.18629317e-03,  2.93450113e-02, ...,\n",
              "         5.82438109e-04,  2.75160038e-02, -1.10435596e-02]])"
            ]
          },
          "metadata": {},
          "execution_count": 63
        }
      ]
    },
    {
      "cell_type": "markdown",
      "metadata": {
        "id": "ecKl9ouDZqNg"
      },
      "source": [
        "# **EDA**"
      ]
    },
    {
      "cell_type": "code",
      "metadata": {
        "colab": {
          "base_uri": "https://localhost:8080/",
          "height": 112
        },
        "id": "3wdD2RoTj4C2",
        "outputId": "343a308d-107d-489f-9335-39bd9496c2d6"
      },
      "source": [
        "temp = df1.groupby('Nature').count()['Tweet'].reset_index().sort_values(by='Tweet',ascending=False)\n",
        "temp.style.background_gradient(cmap='Purples')"
      ],
      "execution_count": null,
      "outputs": [
        {
          "output_type": "execute_result",
          "data": {
            "text/html": [
              "<style  type=\"text/css\" >\n",
              "#T_6513402e_81c7_11ec_a451_0242ac1c0002row0_col1{\n",
              "            background-color:  #3f007d;\n",
              "            color:  #f1f1f1;\n",
              "        }#T_6513402e_81c7_11ec_a451_0242ac1c0002row1_col1{\n",
              "            background-color:  #fcfbfd;\n",
              "            color:  #000000;\n",
              "        }</style><table id=\"T_6513402e_81c7_11ec_a451_0242ac1c0002\" class=\"dataframe\"><thead>    <tr>        <th class=\"blank level0\" ></th>        <th class=\"col_heading level0 col0\" >Nature</th>        <th class=\"col_heading level0 col1\" >Tweet</th>    </tr></thead><tbody>\n",
              "                <tr>\n",
              "                        <th id=\"T_6513402e_81c7_11ec_a451_0242ac1c0002level0_row0\" class=\"row_heading level0 row0\" >1</th>\n",
              "                        <td id=\"T_6513402e_81c7_11ec_a451_0242ac1c0002row0_col0\" class=\"data row0 col0\" >pos</td>\n",
              "                        <td id=\"T_6513402e_81c7_11ec_a451_0242ac1c0002row0_col1\" class=\"data row0 col1\" >22761</td>\n",
              "            </tr>\n",
              "            <tr>\n",
              "                        <th id=\"T_6513402e_81c7_11ec_a451_0242ac1c0002level0_row1\" class=\"row_heading level0 row1\" >0</th>\n",
              "                        <td id=\"T_6513402e_81c7_11ec_a451_0242ac1c0002row1_col0\" class=\"data row1 col0\" >neg</td>\n",
              "                        <td id=\"T_6513402e_81c7_11ec_a451_0242ac1c0002row1_col1\" class=\"data row1 col1\" >22513</td>\n",
              "            </tr>\n",
              "    </tbody></table>"
            ],
            "text/plain": [
              "<pandas.io.formats.style.Styler at 0x7f7a08595890>"
            ]
          },
          "metadata": {},
          "execution_count": 67
        }
      ]
    },
    {
      "cell_type": "code",
      "metadata": {
        "id": "Gevv5MWVZ8RF",
        "colab": {
          "base_uri": "https://localhost:8080/",
          "height": 351
        },
        "outputId": "5a50012c-370a-44e8-94f5-651605298ad3"
      },
      "source": [
        "sns.countplot(df['Nature'])"
      ],
      "execution_count": null,
      "outputs": [
        {
          "output_type": "stream",
          "name": "stderr",
          "text": [
            "/usr/local/lib/python3.7/dist-packages/seaborn/_decorators.py:43: FutureWarning: Pass the following variable as a keyword arg: x. From version 0.12, the only valid positional argument will be `data`, and passing other arguments without an explicit keyword will result in an error or misinterpretation.\n",
            "  FutureWarning\n"
          ]
        },
        {
          "output_type": "execute_result",
          "data": {
            "text/plain": [
              "<matplotlib.axes._subplots.AxesSubplot at 0x7f7a084806d0>"
            ]
          },
          "metadata": {},
          "execution_count": 68
        },
        {
          "output_type": "display_data",
          "data": {
            "image/png": "[encoded data removed]",
            "text/plain": [
              "<Figure size 432x288 with 1 Axes>"
            ]
          },
          "metadata": {
            "needs_background": "light"
          }
        }
      ]
    },
    {
      "cell_type": "markdown",
      "metadata": {
        "id": "HCnvGQfLagFf"
      },
      "source": [
        "It is seen that there are almost equal number of positive and negative tweets.\n",
        "The number of positive tweets is very slightly higher than the number of negative tweets."
      ]
    },
    {
      "cell_type": "code",
      "metadata": {
        "colab": {
          "base_uri": "https://localhost:8080/",
          "height": 542
        },
        "id": "B5T9JtQsk7PJ",
        "outputId": "126b21e1-fa87-41d5-da34-fb5cc802b68c"
      },
      "source": [
        "fig = go.Figure(go.Funnelarea(\n",
        "    text =temp.Nature,\n",
        "    values = temp.Tweet,\n",
        "    title = {\"position\": \"top center\", \"text\": \"Funnel-Chart of Sentiment Distribution\"}\n",
        "    ))\n",
        "fig.show()"
      ],
      "execution_count": null,
      "outputs": [
        {
          "output_type": "display_data",
          "data": {
            "text/html": [
              "<html>\n",
              "<head><meta charset=\"utf-8\" /></head>\n",
              "<body>\n",
              "    <div>            <script src=\"https://cdnjs.cloudflare.com/ajax/libs/mathjax/2.7.5/MathJax.js?config=TeX-AMS-MML_SVG\"></script><script type=\"text/javascript\">if (window.MathJax) {MathJax.Hub.Config({SVG: {font: \"STIX-Web\"}});}</script>                <script type=\"text/javascript\">window.PlotlyConfig = {MathJaxConfig: 'local'};</script>\n",
              "        <script src=\"https://cdn.plot.ly/plotly-2.8.3.min.js\"></script>                <div id=\"d18d59e5-fe5c-4674-b8a0-a6b9cd8f1028\" class=\"plotly-graph-div\" style=\"height:525px; width:100%;\"></div>            <script type=\"text/javascript\">                                    window.PLOTLYENV=window.PLOTLYENV || {};                                    if (document.getElementById(\"d18d59e5-fe5c-4674-b8a0-a6b9cd8f1028\")) {                    Plotly.newPlot(                        \"d18d59e5-fe5c-4674-b8a0-a6b9cd8f1028\",                        [{\"text\":[\"pos\",\"neg\"],\"title\":{\"position\":\"top center\",\"text\":\"Funnel-Chart of Sentiment Distribution\"},\"values\":[22761,22513],\"type\":\"funnelarea\"}],                        {\"template\":{\"data\":{\"bar\":[{\"error_x\":{\"color\":\"#2a3f5f\"},\"error_y\":{\"color\":\"#2a3f5f\"},\"marker\":{\"line\":{\"color\":\"#E5ECF6\",\"width\":0.5},\"pattern\":{\"fillmode\":\"overlay\",\"size\":10,\"solidity\":0.2}},\"type\":\"bar\"}],\"barpolar\":[{\"marker\":{\"line\":{\"color\":\"#E5ECF6\",\"width\":0.5},\"pattern\":{\"fillmode\":\"overlay\",\"size\":10,\"solidity\":0.2}},\"type\":\"barpolar\"}],\"carpet\":[{\"aaxis\":{\"endlinecolor\":\"#2a3f5f\",\"gridcolor\":\"white\",\"linecolor\":\"white\",\"minorgridcolor\":\"white\",\"startlinecolor\":\"#2a3f5f\"},\"baxis\":{\"endlinecolor\":\"#2a3f5f\",\"gridcolor\":\"white\",\"linecolor\":\"white\",\"minorgridcolor\":\"white\",\"startlinecolor\":\"#2a3f5f\"},\"type\":\"carpet\"}],\"choropleth\":[{\"colorbar\":{\"outlinewidth\":0,\"ticks\":\"\"},\"type\":\"choropleth\"}],\"contour\":[{\"colorbar\":{\"outlinewidth\":0,\"ticks\":\"\"},\"colorscale\":[[0.0,\"#0d0887\"],[0.1111111111111111,\"#46039f\"],[0.2222222222222222,\"#7201a8\"],[0.3333333333333333,\"#9c179e\"],[0.4444444444444444,\"#bd3786\"],[0.5555555555555556,\"#d8576b\"],[0.6666666666666666,\"#ed7953\"],[0.7777777777777778,\"#fb9f3a\"],[0.8888888888888888,\"#fdca26\"],[1.0,\"#f0f921\"]],\"type\":\"contour\"}],\"contourcarpet\":[{\"colorbar\":{\"outlinewidth\":0,\"ticks\":\"\"},\"type\":\"contourcarpet\"}],\"heatmap\":[{\"colorbar\":{\"outlinewidth\":0,\"ticks\":\"\"},\"colorscale\":[[0.0,\"#0d0887\"],[0.1111111111111111,\"#46039f\"],[0.2222222222222222,\"#7201a8\"],[0.3333333333333333,\"#9c179e\"],[0.4444444444444444,\"#bd3786\"],[0.5555555555555556,\"#d8576b\"],[0.6666666666666666,\"#ed7953\"],[0.7777777777777778,\"#fb9f3a\"],[0.8888888888888888,\"#fdca26\"],[1.0,\"#f0f921\"]],\"type\":\"heatmap\"}],\"heatmapgl\":[{\"colorbar\":{\"outlinewidth\":0,\"ticks\":\"\"},\"colorscale\":[[0.0,\"#0d0887\"],[0.1111111111111111,\"#46039f\"],[0.2222222222222222,\"#7201a8\"],[0.3333333333333333,\"#9c179e\"],[0.4444444444444444,\"#bd3786\"],[0.5555555555555556,\"#d8576b\"],[0.6666666666666666,\"#ed7953\"],[0.7777777777777778,\"#fb9f3a\"],[0.8888888888888888,\"#fdca26\"],[1.0,\"#f0f921\"]],\"type\":\"heatmapgl\"}],\"histogram\":[{\"marker\":{\"pattern\":{\"fillmode\":\"overlay\",\"size\":10,\"solidity\":0.2}},\"type\":\"histogram\"}],\"histogram2d\":[{\"colorbar\":{\"outlinewidth\":0,\"ticks\":\"\"},\"colorscale\":[[0.0,\"#0d0887\"],[0.1111111111111111,\"#46039f\"],[0.2222222222222222,\"#7201a8\"],[0.3333333333333333,\"#9c179e\"],[0.4444444444444444,\"#bd3786\"],[0.5555555555555556,\"#d8576b\"],[0.6666666666666666,\"#ed7953\"],[0.7777777777777778,\"#fb9f3a\"],[0.8888888888888888,\"#fdca26\"],[1.0,\"#f0f921\"]],\"type\":\"histogram2d\"}],\"histogram2dcontour\":[{\"colorbar\":{\"outlinewidth\":0,\"ticks\":\"\"},\"colorscale\":[[0.0,\"#0d0887\"],[0.1111111111111111,\"#46039f\"],[0.2222222222222222,\"#7201a8\"],[0.3333333333333333,\"#9c179e\"],[0.4444444444444444,\"#bd3786\"],[0.5555555555555556,\"#d8576b\"],[0.6666666666666666,\"#ed7953\"],[0.7777777777777778,\"#fb9f3a\"],[0.8888888888888888,\"#fdca26\"],[1.0,\"#f0f921\"]],\"type\":\"histogram2dcontour\"}],\"mesh3d\":[{\"colorbar\":{\"outlinewidth\":0,\"ticks\":\"\"},\"type\":\"mesh3d\"}],\"parcoords\":[{\"line\":{\"colorbar\":{\"outlinewidth\":0,\"ticks\":\"\"}},\"type\":\"parcoords\"}],\"pie\":[{\"automargin\":true,\"type\":\"pie\"}],\"scatter\":[{\"marker\":{\"colorbar\":{\"outlinewidth\":0,\"ticks\":\"\"}},\"type\":\"scatter\"}],\"scatter3d\":[{\"line\":{\"colorbar\":{\"outlinewidth\":0,\"ticks\":\"\"}},\"marker\":{\"colorbar\":{\"outlinewidth\":0,\"ticks\":\"\"}},\"type\":\"scatter3d\"}],\"scattercarpet\":[{\"marker\":{\"colorbar\":{\"outlinewidth\":0,\"ticks\":\"\"}},\"type\":\"scattercarpet\"}],\"scattergeo\":[{\"marker\":{\"colorbar\":{\"outlinewidth\":0,\"ticks\":\"\"}},\"type\":\"scattergeo\"}],\"scattergl\":[{\"marker\":{\"colorbar\":{\"outlinewidth\":0,\"ticks\":\"\"}},\"type\":\"scattergl\"}],\"scattermapbox\":[{\"marker\":{\"colorbar\":{\"outlinewidth\":0,\"ticks\":\"\"}},\"type\":\"scattermapbox\"}],\"scatterpolar\":[{\"marker\":{\"colorbar\":{\"outlinewidth\":0,\"ticks\":\"\"}},\"type\":\"scatterpolar\"}],\"scatterpolargl\":[{\"marker\":{\"colorbar\":{\"outlinewidth\":0,\"ticks\":\"\"}},\"type\":\"scatterpolargl\"}],\"scatterternary\":[{\"marker\":{\"colorbar\":{\"outlinewidth\":0,\"ticks\":\"\"}},\"type\":\"scatterternary\"}],\"surface\":[{\"colorbar\":{\"outlinewidth\":0,\"ticks\":\"\"},\"colorscale\":[[0.0,\"#0d0887\"],[0.1111111111111111,\"#46039f\"],[0.2222222222222222,\"#7201a8\"],[0.3333333333333333,\"#9c179e\"],[0.4444444444444444,\"#bd3786\"],[0.5555555555555556,\"#d8576b\"],[0.6666666666666666,\"#ed7953\"],[0.7777777777777778,\"#fb9f3a\"],[0.8888888888888888,\"#fdca26\"],[1.0,\"#f0f921\"]],\"type\":\"surface\"}],\"table\":[{\"cells\":{\"fill\":{\"color\":\"#EBF0F8\"},\"line\":{\"color\":\"white\"}},\"header\":{\"fill\":{\"color\":\"#C8D4E3\"},\"line\":{\"color\":\"white\"}},\"type\":\"table\"}]},\"layout\":{\"annotationdefaults\":{\"arrowcolor\":\"#2a3f5f\",\"arrowhead\":0,\"arrowwidth\":1},\"autotypenumbers\":\"strict\",\"coloraxis\":{\"colorbar\":{\"outlinewidth\":0,\"ticks\":\"\"}},\"colorscale\":{\"diverging\":[[0,\"#8e0152\"],[0.1,\"#c51b7d\"],[0.2,\"#de77ae\"],[0.3,\"#f1b6da\"],[0.4,\"#fde0ef\"],[0.5,\"#f7f7f7\"],[0.6,\"#e6f5d0\"],[0.7,\"#b8e186\"],[0.8,\"#7fbc41\"],[0.9,\"#4d9221\"],[1,\"#276419\"]],\"sequential\":[[0.0,\"#0d0887\"],[0.1111111111111111,\"#46039f\"],[0.2222222222222222,\"#7201a8\"],[0.3333333333333333,\"#9c179e\"],[0.4444444444444444,\"#bd3786\"],[0.5555555555555556,\"#d8576b\"],[0.6666666666666666,\"#ed7953\"],[0.7777777777777778,\"#fb9f3a\"],[0.8888888888888888,\"#fdca26\"],[1.0,\"#f0f921\"]],\"sequentialminus\":[[0.0,\"#0d0887\"],[0.1111111111111111,\"#46039f\"],[0.2222222222222222,\"#7201a8\"],[0.3333333333333333,\"#9c179e\"],[0.4444444444444444,\"#bd3786\"],[0.5555555555555556,\"#d8576b\"],[0.6666666666666666,\"#ed7953\"],[0.7777777777777778,\"#fb9f3a\"],[0.8888888888888888,\"#fdca26\"],[1.0,\"#f0f921\"]]},\"colorway\":[\"#636efa\",\"#EF553B\",\"#00cc96\",\"#ab63fa\",\"#FFA15A\",\"#19d3f3\",\"#FF6692\",\"#B6E880\",\"#FF97FF\",\"#FECB52\"],\"font\":{\"color\":\"#2a3f5f\"},\"geo\":{\"bgcolor\":\"white\",\"lakecolor\":\"white\",\"landcolor\":\"#E5ECF6\",\"showlakes\":true,\"showland\":true,\"subunitcolor\":\"white\"},\"hoverlabel\":{\"align\":\"left\"},\"hovermode\":\"closest\",\"mapbox\":{\"style\":\"light\"},\"paper_bgcolor\":\"white\",\"plot_bgcolor\":\"#E5ECF6\",\"polar\":{\"angularaxis\":{\"gridcolor\":\"white\",\"linecolor\":\"white\",\"ticks\":\"\"},\"bgcolor\":\"#E5ECF6\",\"radialaxis\":{\"gridcolor\":\"white\",\"linecolor\":\"white\",\"ticks\":\"\"}},\"scene\":{\"xaxis\":{\"backgroundcolor\":\"#E5ECF6\",\"gridcolor\":\"white\",\"gridwidth\":2,\"linecolor\":\"white\",\"showbackground\":true,\"ticks\":\"\",\"zerolinecolor\":\"white\"},\"yaxis\":{\"backgroundcolor\":\"#E5ECF6\",\"gridcolor\":\"white\",\"gridwidth\":2,\"linecolor\":\"white\",\"showbackground\":true,\"ticks\":\"\",\"zerolinecolor\":\"white\"},\"zaxis\":{\"backgroundcolor\":\"#E5ECF6\",\"gridcolor\":\"white\",\"gridwidth\":2,\"linecolor\":\"white\",\"showbackground\":true,\"ticks\":\"\",\"zerolinecolor\":\"white\"}},\"shapedefaults\":{\"line\":{\"color\":\"#2a3f5f\"}},\"ternary\":{\"aaxis\":{\"gridcolor\":\"white\",\"linecolor\":\"white\",\"ticks\":\"\"},\"baxis\":{\"gridcolor\":\"white\",\"linecolor\":\"white\",\"ticks\":\"\"},\"bgcolor\":\"#E5ECF6\",\"caxis\":{\"gridcolor\":\"white\",\"linecolor\":\"white\",\"ticks\":\"\"}},\"title\":{\"x\":0.05},\"xaxis\":{\"automargin\":true,\"gridcolor\":\"white\",\"linecolor\":\"white\",\"ticks\":\"\",\"title\":{\"standoff\":15},\"zerolinecolor\":\"white\",\"zerolinewidth\":2},\"yaxis\":{\"automargin\":true,\"gridcolor\":\"white\",\"linecolor\":\"white\",\"ticks\":\"\",\"title\":{\"standoff\":15},\"zerolinecolor\":\"white\",\"zerolinewidth\":2}}}},                        {\"responsive\": true}                    ).then(function(){\n",
              "                            \n",
              "var gd = document.getElementById('d18d59e5-fe5c-4674-b8a0-a6b9cd8f1028');\n",
              "var x = new MutationObserver(function (mutations, observer) {{\n",
              "        var display = window.getComputedStyle(gd).display;\n",
              "        if (!display || display === 'none') {{\n",
              "            console.log([gd, 'removed!']);\n",
              "            Plotly.purge(gd);\n",
              "            observer.disconnect();\n",
              "        }}\n",
              "}});\n",
              "\n",
              "// Listen for the removal of the full notebook cells\n",
              "var notebookContainer = gd.closest('#notebook-container');\n",
              "if (notebookContainer) {{\n",
              "    x.observe(notebookContainer, {childList: true});\n",
              "}}\n",
              "\n",
              "// Listen for the clearing of the current output cell\n",
              "var outputEl = gd.closest('.output');\n",
              "if (outputEl) {{\n",
              "    x.observe(outputEl, {childList: true});\n",
              "}}\n",
              "\n",
              "                        })                };                            </script>        </div>\n",
              "</body>\n",
              "</html>"
            ]
          },
          "metadata": {}
        }
      ]
    },
    {
      "cell_type": "code",
      "metadata": {
        "id": "NVrhv0ub09Qf"
      },
      "source": [
        "# splitting into train and tests\n",
        "X_train,X_test,Y_train,Y_test = train_test_split(df['tweet1'], df.Nature, test_size=0.2, random_state=42)"
      ],
      "execution_count": null,
      "outputs": []
    },
    {
      "cell_type": "code",
      "metadata": {
        "id": "v-oUGm1u2eXR",
        "colab": {
          "base_uri": "https://localhost:8080/"
        },
        "outputId": "234c952e-8463-4d95-f6a1-e4de493f7ad6"
      },
      "source": [
        "X_train.head"
      ],
      "execution_count": null,
      "outputs": [
        {
          "output_type": "execute_result",
          "data": {
            "text/plain": [
              "<bound method NDFrame.head of 4819                                        اجمل تعب والله\n",
              "34195                                         نفس اللي طلع\n",
              "30296    الهلال الاهلي حسين عبدالغني سبق وان تكررت لحال...\n",
              "20679                                             وصلت وين\n",
              "21444    اعتلي الهلال الدوري فالوقت الحالي مباراه النصر...\n",
              "                               ...                        \n",
              "11284    يلامسون قلبي اولءك الذين ينتبهون لتفاصيلي الصغ...\n",
              "44732    الاس لاعب ريال مدريد بيل رفض حضور مادبه غداء ا...\n",
              "38158    دوله يحكمها عقلاء دستورهم الكتاب والسنه تاخذهم...\n",
              "860      بحياتك ولدي امراه عيناها سبحان المعبود فمها مر...\n",
              "15795    بس احبها شخصيتها تجنن حلاوه الفلم نفس انتي حلا...\n",
              "Name: tweet1, Length: 36219, dtype: object>"
            ]
          },
          "metadata": {},
          "execution_count": 71
        }
      ]
    },
    {
      "cell_type": "code",
      "metadata": {
        "id": "_LdpFctV3U2W",
        "colab": {
          "base_uri": "https://localhost:8080/"
        },
        "outputId": "fc9ab62b-8b82-43e8-e681-7cbd01de3579"
      },
      "source": [
        "Y_train.head"
      ],
      "execution_count": null,
      "outputs": [
        {
          "output_type": "execute_result",
          "data": {
            "text/plain": [
              "<bound method NDFrame.head of 4819     1\n",
              "34195    0\n",
              "30296    0\n",
              "20679    1\n",
              "21444    1\n",
              "        ..\n",
              "11284    1\n",
              "44732    0\n",
              "38158    0\n",
              "860      1\n",
              "15795    1\n",
              "Name: Nature, Length: 36219, dtype: int64>"
            ]
          },
          "metadata": {},
          "execution_count": 72
        }
      ]
    },
    {
      "cell_type": "code",
      "metadata": {
        "id": "DRcALDqSMmoh"
      },
      "source": [
        "AUC = {}\n",
        "models = {}"
      ],
      "execution_count": null,
      "outputs": []
    },
    {
      "cell_type": "markdown",
      "metadata": {
        "id": "Ix0Bxv0Pk_9U"
      },
      "source": [
        "A dictionary is created to keep track of models, auc score and accuracy"
      ]
    },
    {
      "cell_type": "markdown",
      "metadata": {
        "id": "92u4UX7Rf6GU"
      },
      "source": [
        "# **Classification Algorithms**"
      ]
    },
    {
      "cell_type": "markdown",
      "metadata": {
        "id": "11A6M1RMLLPN"
      },
      "source": [
        "### **Confusion Matrix**\n",
        "\n",
        "![image.png](data:image/png;base64,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)\n",
        "\n"
      ]
    },
    {
      "cell_type": "markdown",
      "metadata": {
        "id": "-ZK78lk6jLq7"
      },
      "source": [
        "# **Training Models**\n",
        "\n",
        "We have used:\n",
        "1.   Logistic Regression\n",
        "2.   Random Forest Classifier\n",
        "3.   Decision Tree Classifier\n",
        "4.   K-Nearest Neighbour\n",
        "5.   Naive Bayes\n",
        "        1. Bernoulli Naive Bayes\n",
        "        2. Multinomial Naive Bayes\n",
        "        3. Gaussian Naive Bayes\n",
        "6.   Support Vector Machine\n",
        "        1. Linear SVM\n",
        "        2. Polynomial SVM\n",
        "        3. Sigmoid SVM\n",
        "        4. RBF Classifier\n",
        "\n",
        "\n",
        "\n",
        "\n",
        "## Function **model_train**\n",
        "\n",
        "\n",
        "For each of the label:\n",
        "\n",
        "* It prints the confusion matrix.\n",
        "* It prints the classification report.\n",
        "* It plots the ROC AUC curve.\n",
        "* It picks the classifier with the best accuracy score.\n",
        "\n",
        "\n",
        "\n"
      ]
    },
    {
      "cell_type": "code",
      "metadata": {
        "id": "dra_1i67vA3V"
      },
      "source": [
        "from sklearn import metrics\n",
        "import itertools\n",
        "\n",
        "def plot_confusion_matrix(cm, classes,\n",
        "                          normalize=False,\n",
        "                          title='Confusion matrix',\n",
        "                          cmap=plt.cm.RdYlGn):\n",
        "    \n",
        "    plt.imshow(cm, interpolation='nearest', cmap=cmap)\n",
        "    plt.title(title)\n",
        "    plt.colorbar()\n",
        "    tick_marks = np.arange(len(classes))\n",
        "    plt.xticks(tick_marks, classes, rotation=45)      #x axis\n",
        "    plt.yticks(tick_marks, classes)                   #y axis\n",
        "\n",
        "    thresh = cm.max() / 2.\n",
        "    for i, j in itertools.product(range(cm.shape[0]), range(cm.shape[1])):\n",
        "        plt.text(j, i, cm[i, j],\n",
        "                 horizontalalignment=\"center\",\n",
        "                 color=\"white\" if cm[i, j] > thresh else \"black\")\n",
        "\n",
        "    plt.tight_layout()\n",
        "    plt.ylabel('True label')\n",
        "    plt.xlabel('Predicted label')"
      ],
      "execution_count": null,
      "outputs": []
    },
    {
      "cell_type": "markdown",
      "metadata": {
        "id": "Jdzalz2OCw4M"
      },
      "source": [
        "# **Logistic Regression**"
      ]
    },
    {
      "cell_type": "code",
      "metadata": {
        "id": "gsPHHsLj1Q8e",
        "colab": {
          "base_uri": "https://localhost:8080/"
        },
        "outputId": "d0e2d3a0-b056-4867-aece-a83b03ecb726"
      },
      "source": [
        "# make pipeline\n",
        "pipe = make_pipeline(TfidfVectorizer(),\n",
        "                    LogisticRegression())\n",
        "pipe"
      ],
      "execution_count": null,
      "outputs": [
        {
          "output_type": "execute_result",
          "data": {
            "text/plain": [
              "Pipeline(steps=[('tfidfvectorizer', TfidfVectorizer()),\n",
              "                ('logisticregression', LogisticRegression())])"
            ]
          },
          "metadata": {},
          "execution_count": 76
        }
      ]
    },
    {
      "cell_type": "code",
      "metadata": {
        "id": "YtzYCkLw1tM9",
        "colab": {
          "base_uri": "https://localhost:8080/"
        },
        "outputId": "19ecefd0-e243-4bb1-c5f5-5828ff28a2bd"
      },
      "source": [
        "# make param grid\n",
        "param_grid = {'logisticregression__C': [0.01, 0.1, 1, 10, 100]}\n",
        "param_grid"
      ],
      "execution_count": null,
      "outputs": [
        {
          "output_type": "execute_result",
          "data": {
            "text/plain": [
              "{'logisticregression__C': [0.01, 0.1, 1, 10, 100]}"
            ]
          },
          "metadata": {},
          "execution_count": 77
        }
      ]
    },
    {
      "cell_type": "code",
      "metadata": {
        "id": "BbR7XGZU1yQx"
      },
      "source": [
        "# create and fit the model\n",
        "model = GridSearchCV(pipe, param_grid, cv=5)\n",
        "model.fit(X_train,Y_train)"
      ],
      "execution_count": null,
      "outputs": []
    },
    {
      "cell_type": "code",
      "metadata": {
        "id": "k67KV-k14cdj",
        "colab": {
          "base_uri": "https://localhost:8080/"
        },
        "outputId": "a3339aff-ad98-48da-fc38-17111d99816f"
      },
      "source": [
        "# make prediction and print accuracy\n",
        "prediction = model.predict(X_test)\n",
        "print(f\"Accuracy score is {accuracy_score(Y_test, prediction):.2f}\")\n",
        "print(classification_report(Y_test, prediction))"
      ],
      "execution_count": null,
      "outputs": [
        {
          "output_type": "stream",
          "name": "stdout",
          "text": [
            "Accuracy score is 0.79\n",
            "              precision    recall  f1-score   support\n",
            "\n",
            "           0       0.78      0.80      0.79      4488\n",
            "           1       0.80      0.78      0.79      4567\n",
            "\n",
            "    accuracy                           0.79      9055\n",
            "   macro avg       0.79      0.79      0.79      9055\n",
            "weighted avg       0.79      0.79      0.79      9055\n",
            "\n"
          ]
        }
      ]
    },
    {
      "cell_type": "code",
      "metadata": {
        "colab": {
          "base_uri": "https://localhost:8080/",
          "height": 265
        },
        "id": "HItgzEyT2bjQ",
        "outputId": "d9e4e3d1-0bb0-427e-f5cb-1be3d38a2f63"
      },
      "source": [
        "fpr,tpr,thresholds=roc_curve(prediction,Y_test)\n",
        "plt.plot(fpr,tpr)\n",
        "auc_score=roc_auc_score(prediction,Y_test)"
      ],
      "execution_count": null,
      "outputs": [
        {
          "output_type": "display_data",
          "data": {
            "image/png": "[encoded data removed]",
            "text/plain": [
              "<Figure size 432x288 with 1 Axes>"
            ]
          },
          "metadata": {
            "needs_background": "light"
          }
        }
      ]
    },
    {
      "cell_type": "code",
      "metadata": {
        "id": "ueUJ9hik2wPR",
        "colab": {
          "base_uri": "https://localhost:8080/"
        },
        "outputId": "8397a75d-2c4a-48e8-b315-19f3fa542336"
      },
      "source": [
        "auc_score"
      ],
      "execution_count": null,
      "outputs": [
        {
          "output_type": "execute_result",
          "data": {
            "text/plain": [
              "0.7918171663186804"
            ]
          },
          "metadata": {},
          "execution_count": 81
        }
      ]
    },
    {
      "cell_type": "code",
      "metadata": {
        "id": "LpF0BSDU22DG",
        "colab": {
          "base_uri": "https://localhost:8080/"
        },
        "outputId": "7d936ef8-fa80-4cd7-c558-78c1d4c26e13"
      },
      "source": [
        "AUC[1] =['Logistic regression', auc_score] \n",
        "AUC"
      ],
      "execution_count": null,
      "outputs": [
        {
          "output_type": "execute_result",
          "data": {
            "text/plain": [
              "{1: ['Logistic regression', 0.7918171663186804]}"
            ]
          },
          "metadata": {},
          "execution_count": 82
        }
      ]
    },
    {
      "cell_type": "code",
      "metadata": {
        "id": "vdO3ldOJ3X9Q"
      },
      "source": [
        "acc=accuracy_score(Y_test, prediction)"
      ],
      "execution_count": null,
      "outputs": []
    },
    {
      "cell_type": "code",
      "metadata": {
        "id": "8U12GcrS26Sg",
        "colab": {
          "base_uri": "https://localhost:8080/"
        },
        "outputId": "3aeb049f-e4a3-4a89-f328-bd0d9d8c01ae"
      },
      "source": [
        "models[1] =['Logistic Regression', acc] \n",
        "models"
      ],
      "execution_count": null,
      "outputs": [
        {
          "output_type": "execute_result",
          "data": {
            "text/plain": [
              "{1: ['Logistic Regression', 0.7917172832689122]}"
            ]
          },
          "metadata": {},
          "execution_count": 84
        }
      ]
    },
    {
      "cell_type": "code",
      "metadata": {
        "id": "4aPi02e7vZeq",
        "colab": {
          "base_uri": "https://localhost:8080/",
          "height": 311
        },
        "outputId": "7fe19273-ef97-42f8-8bed-c962d4b8f05c"
      },
      "source": [
        "cm = metrics.confusion_matrix(Y_test, prediction)\n",
        "plot_confusion_matrix(cm, classes=['Fake', 'Real'])"
      ],
      "execution_count": null,
      "outputs": [
        {
          "output_type": "display_data",
          "data": {
            "image/png": "[encoded data removed]",
            "text/plain": [
              "<Figure size 432x288 with 2 Axes>"
            ]
          },
          "metadata": {
            "needs_background": "light"
          }
        }
      ]
    },
    {
      "cell_type": "markdown",
      "metadata": {
        "id": "vmVWYryM5fBt"
      },
      "source": [
        "# **Random Forest Classifier**"
      ]
    },
    {
      "cell_type": "code",
      "metadata": {
        "id": "z9SEBYgc_uGy"
      },
      "source": [
        "pipe = Pipeline([('vect', CountVectorizer()),\n",
        "                 ('tfidf', TfidfTransformer()),\n",
        "                 ('model', RandomForestClassifier(random_state=0))])\n",
        "# Fitting the model\n",
        "model = pipe.fit(X_train, Y_train)"
      ],
      "execution_count": null,
      "outputs": []
    },
    {
      "cell_type": "code",
      "metadata": {
        "id": "SAZ8Oosc_4eQ",
        "colab": {
          "base_uri": "https://localhost:8080/"
        },
        "outputId": "a6b7ac6e-ff31-408c-83b4-0822e6c18cc6"
      },
      "source": [
        "prediction = model.predict(X_test)\n",
        "print(f\"Accuracy score is {accuracy_score(Y_test, prediction):.2f}\")\n",
        "print(classification_report(Y_test, prediction))"
      ],
      "execution_count": null,
      "outputs": [
        {
          "output_type": "stream",
          "name": "stdout",
          "text": [
            "Accuracy score is 0.79\n",
            "              precision    recall  f1-score   support\n",
            "\n",
            "           0       0.76      0.84      0.80      4488\n",
            "           1       0.83      0.75      0.78      4567\n",
            "\n",
            "    accuracy                           0.79      9055\n",
            "   macro avg       0.80      0.79      0.79      9055\n",
            "weighted avg       0.80      0.79      0.79      9055\n",
            "\n"
          ]
        }
      ]
    },
    {
      "cell_type": "code",
      "metadata": {
        "id": "jPDAGkhI8Stx",
        "colab": {
          "base_uri": "https://localhost:8080/",
          "height": 283
        },
        "outputId": "0f2cecad-cda6-4a40-e332-fcdb8a1b70e7"
      },
      "source": [
        "fpr,tpr,thresholds=roc_curve(prediction,Y_test)\n",
        "plt.plot(fpr,tpr)\n",
        "auc_score2=roc_auc_score(prediction,Y_test)\n",
        "auc_score2"
      ],
      "execution_count": null,
      "outputs": [
        {
          "output_type": "execute_result",
          "data": {
            "text/plain": [
              "0.7955452701456757"
            ]
          },
          "metadata": {},
          "execution_count": 94
        },
        {
          "output_type": "display_data",
          "data": {
            "image/png": "[encoded data removed]",
            "text/plain": [
              "<Figure size 432x288 with 1 Axes>"
            ]
          },
          "metadata": {
            "needs_background": "light"
          }
        }
      ]
    },
    {
      "cell_type": "code",
      "metadata": {
        "id": "dHw3LfFJ8biR",
        "colab": {
          "base_uri": "https://localhost:8080/"
        },
        "outputId": "4d478782-eba1-4014-d14f-26aa9bed23d7"
      },
      "source": [
        "AUC[2] =['Random Forest Classifier', auc_score2] \n",
        "AUC"
      ],
      "execution_count": null,
      "outputs": [
        {
          "output_type": "execute_result",
          "data": {
            "text/plain": [
              "{1: ['Logistic regression', 0.7918171663186804],\n",
              " 2: ['Random Forest Classifier', 0.7955452701456757]}"
            ]
          },
          "metadata": {},
          "execution_count": 95
        }
      ]
    },
    {
      "cell_type": "code",
      "metadata": {
        "id": "RoLrBLMm8uwb",
        "colab": {
          "base_uri": "https://localhost:8080/"
        },
        "outputId": "7ecce21f-585d-4afc-e714-ac470e5948bc"
      },
      "source": [
        "acc=accuracy_score(Y_test, prediction)\n",
        "models[2] =['Random Forest Classifier', acc] \n",
        "models"
      ],
      "execution_count": null,
      "outputs": [
        {
          "output_type": "execute_result",
          "data": {
            "text/plain": [
              "{1: ['Logistic Regression', 0.7917172832689122],\n",
              " 2: ['Random Forest Classifier', 0.7928216454997239]}"
            ]
          },
          "metadata": {},
          "execution_count": 96
        }
      ]
    },
    {
      "cell_type": "code",
      "metadata": {
        "id": "zBT4NWhbveKR",
        "colab": {
          "base_uri": "https://localhost:8080/",
          "height": 329
        },
        "outputId": "d70918e7-da34-408c-b4e1-1111a18509d2"
      },
      "source": [
        "cm = metrics.confusion_matrix(Y_test, prediction)\n",
        "plot_confusion_matrix(cm, classes=['Fake', 'Real'])"
      ],
      "execution_count": null,
      "outputs": [
        {
          "output_type": "stream",
          "name": "stdout",
          "text": [
            "Confusion matrix, without normalization\n"
          ]
        },
        {
          "output_type": "display_data",
          "data": {
            "image/png": "[encoded data removed]",
            "text/plain": [
              "<Figure size 432x288 with 2 Axes>"
            ]
          },
          "metadata": {
            "needs_background": "light"
          }
        }
      ]
    },
    {
      "cell_type": "markdown",
      "metadata": {
        "id": "fzSMQ81DDpnP"
      },
      "source": [
        "# **Decision Tree Classifier**"
      ]
    },
    {
      "cell_type": "code",
      "metadata": {
        "id": "cOe9uAbUDMty"
      },
      "source": [
        "from sklearn.tree import DecisionTreeClassifier\n",
        "\n",
        "# Vectorizing and applying TF-IDF\n",
        "pipe = Pipeline([('vect', CountVectorizer()),\n",
        "                 ('tfidf', TfidfTransformer()),\n",
        "                 ('model', DecisionTreeClassifier(criterion= 'entropy',\n",
        "                                           max_depth = 20, \n",
        "                                           splitter='best', \n",
        "                                           random_state=42))])\n",
        "# Fitting the model\n",
        "model = pipe.fit(X_train, Y_train)"
      ],
      "execution_count": null,
      "outputs": []
    },
    {
      "cell_type": "code",
      "metadata": {
        "id": "8WeLSaDaDRwM",
        "colab": {
          "base_uri": "https://localhost:8080/"
        },
        "outputId": "1b2e3820-e2f2-4804-ed28-a577f281d4d9"
      },
      "source": [
        "prediction = model.predict(X_test)\n",
        "print(f\"Accuracy score is {accuracy_score(Y_test, prediction):.2f}\")\n",
        "print(classification_report(Y_test, prediction))"
      ],
      "execution_count": null,
      "outputs": [
        {
          "output_type": "stream",
          "name": "stdout",
          "text": [
            "Accuracy score is 0.64\n",
            "              precision    recall  f1-score   support\n",
            "\n",
            "           0       0.59      0.90      0.71      4488\n",
            "           1       0.80      0.38      0.51      4567\n",
            "\n",
            "    accuracy                           0.64      9055\n",
            "   macro avg       0.69      0.64      0.61      9055\n",
            "weighted avg       0.69      0.64      0.61      9055\n",
            "\n"
          ]
        }
      ]
    },
    {
      "cell_type": "code",
      "metadata": {
        "id": "tGW_c_Ly95Ty",
        "colab": {
          "base_uri": "https://localhost:8080/",
          "height": 283
        },
        "outputId": "44dc8990-fd33-4f2e-efdc-93a58cc6f42b"
      },
      "source": [
        "fpr,tpr,thresholds=roc_curve(prediction,Y_test)\n",
        "plt.plot(fpr,tpr)\n",
        "auc_score3=roc_auc_score(prediction,Y_test)\n",
        "auc_score3"
      ],
      "execution_count": null,
      "outputs": [
        {
          "output_type": "execute_result",
          "data": {
            "text/plain": [
              "0.690872204159315"
            ]
          },
          "metadata": {},
          "execution_count": 92
        },
        {
          "output_type": "display_data",
          "data": {
            "image/png": "[encoded data removed]",
            "text/plain": [
              "<Figure size 432x288 with 1 Axes>"
            ]
          },
          "metadata": {
            "needs_background": "light"
          }
        }
      ]
    },
    {
      "cell_type": "code",
      "metadata": {
        "id": "67djtk0i-CE1",
        "colab": {
          "base_uri": "https://localhost:8080/"
        },
        "outputId": "20cb55f0-9c18-480b-dad5-b8f0ba7fa549"
      },
      "source": [
        "AUC[3] =['Desicion Tree Classifier', auc_score3] \n",
        "AUC"
      ],
      "execution_count": null,
      "outputs": [
        {
          "output_type": "execute_result",
          "data": {
            "text/plain": [
              "{1: ['Logistic regression', 0.7918171663186804],\n",
              " 3: ['Desicion Tree Classifier', 0.690872204159315]}"
            ]
          },
          "metadata": {},
          "execution_count": 93
        }
      ]
    },
    {
      "cell_type": "code",
      "metadata": {
        "id": "KmFbtacb_JPQ",
        "colab": {
          "base_uri": "https://localhost:8080/"
        },
        "outputId": "5f6456bb-7481-4fc6-9fa9-3d286d2bede2"
      },
      "source": [
        "acc=accuracy_score(Y_test, prediction)\n",
        "models[3] =['Decision Tree Classifier', acc] \n",
        "models"
      ],
      "execution_count": null,
      "outputs": [
        {
          "output_type": "execute_result",
          "data": {
            "text/plain": [
              "{1: ['Logistic Regression', 0.7917172832689122],\n",
              " 3: ['Decision Tree Classifier', 0.6364439536167863]}"
            ]
          },
          "metadata": {},
          "execution_count": 94
        }
      ]
    },
    {
      "cell_type": "code",
      "metadata": {
        "id": "rzEMgqcYvnrh",
        "colab": {
          "base_uri": "https://localhost:8080/",
          "height": 311
        },
        "outputId": "611feb16-332a-4ba4-94e7-b15f9d8ac414"
      },
      "source": [
        "cm = metrics.confusion_matrix(Y_test, prediction)\n",
        "plot_confusion_matrix(cm, classes=['Fake', 'Real'])"
      ],
      "execution_count": null,
      "outputs": [
        {
          "output_type": "display_data",
          "data": {
            "image/png": "[encoded data removed]",
            "text/plain": [
              "<Figure size 432x288 with 2 Axes>"
            ]
          },
          "metadata": {
            "needs_background": "light"
          }
        }
      ]
    },
    {
      "cell_type": "markdown",
      "metadata": {
        "id": "jdDZFLdCD0Fd"
      },
      "source": [
        "# **KNN**"
      ]
    },
    {
      "cell_type": "code",
      "metadata": {
        "id": "KlnpgFu1Dxh1"
      },
      "source": [
        "from sklearn.neighbors import KNeighborsClassifier\n",
        "\n",
        "pipe = Pipeline([('vect', CountVectorizer()),\n",
        "                 ('tfidf', TfidfTransformer()),\n",
        "                 ('model', KNeighborsClassifier(n_neighbors = 1))])  \n",
        "# Fitting the model\n",
        "model = pipe.fit(X_train, Y_train)"
      ],
      "execution_count": null,
      "outputs": []
    },
    {
      "cell_type": "code",
      "metadata": {
        "id": "9CpTxHjgD6qg",
        "colab": {
          "base_uri": "https://localhost:8080/"
        },
        "outputId": "2f505ac2-c408-40ba-d9e1-3381fd724421"
      },
      "source": [
        "prediction = model.predict(X_test)\n",
        "print(f\"Accuracy score is {accuracy_score(Y_test, prediction):.2f}\")\n",
        "print(classification_report(prediction,Y_test))"
      ],
      "execution_count": null,
      "outputs": [
        {
          "output_type": "stream",
          "name": "stdout",
          "text": [
            "Accuracy score is 0.72\n",
            "              precision    recall  f1-score   support\n",
            "\n",
            "           0       0.51      0.88      0.64      2590\n",
            "           1       0.93      0.66      0.77      6465\n",
            "\n",
            "    accuracy                           0.72      9055\n",
            "   macro avg       0.72      0.77      0.71      9055\n",
            "weighted avg       0.81      0.72      0.74      9055\n",
            "\n"
          ]
        }
      ]
    },
    {
      "cell_type": "code",
      "metadata": {
        "id": "kqlTF83g_kZO",
        "colab": {
          "base_uri": "https://localhost:8080/",
          "height": 283
        },
        "outputId": "66e72c80-4cee-4ca8-e88a-e6d6dda4f740"
      },
      "source": [
        "fpr,tpr,thresholds=roc_curve(prediction,Y_test)\n",
        "plt.plot(fpr,tpr)\n",
        "auc_score4=roc_auc_score(prediction,Y_test)\n",
        "auc_score4"
      ],
      "execution_count": null,
      "outputs": [
        {
          "output_type": "execute_result",
          "data": {
            "text/plain": [
              "0.7693887789015399"
            ]
          },
          "metadata": {},
          "execution_count": 98
        },
        {
          "output_type": "display_data",
          "data": {
            "image/png": "[encoded data removed]",
            "text/plain": [
              "<Figure size 432x288 with 1 Axes>"
            ]
          },
          "metadata": {
            "needs_background": "light"
          }
        }
      ]
    },
    {
      "cell_type": "code",
      "metadata": {
        "id": "_-pl5Nqe_kZV",
        "colab": {
          "base_uri": "https://localhost:8080/"
        },
        "outputId": "63fb89ef-cfcc-4807-e97e-5c4e12b09a16"
      },
      "source": [
        "AUC[4] =['K-Nearest Neighbour', auc_score4] \n",
        "AUC"
      ],
      "execution_count": null,
      "outputs": [
        {
          "output_type": "execute_result",
          "data": {
            "text/plain": [
              "{1: ['Logistic regression', 0.7918171663186804],\n",
              " 3: ['Desicion Tree Classifier', 0.690872204159315],\n",
              " 4: ['K-Nearest Neighbour', 0.7693887789015399]}"
            ]
          },
          "metadata": {},
          "execution_count": 99
        }
      ]
    },
    {
      "cell_type": "code",
      "metadata": {
        "id": "sAc1cHL4_kZV",
        "colab": {
          "base_uri": "https://localhost:8080/"
        },
        "outputId": "25d54f22-d107-4cd2-d5ed-af18e34271dc"
      },
      "source": [
        "acc=accuracy_score(Y_test, prediction)\n",
        "models[4] =['K-Nearest Neighbour', acc] \n",
        "models"
      ],
      "execution_count": null,
      "outputs": [
        {
          "output_type": "execute_result",
          "data": {
            "text/plain": [
              "{1: ['Logistic Regression', 0.7917172832689122],\n",
              " 3: ['Decision Tree Classifier', 0.6364439536167863],\n",
              " 4: ['K-Nearest Neighbour', 0.7219215902816124]}"
            ]
          },
          "metadata": {},
          "execution_count": 100
        }
      ]
    },
    {
      "cell_type": "code",
      "metadata": {
        "id": "SbYSkumCvr9-",
        "colab": {
          "base_uri": "https://localhost:8080/",
          "height": 311
        },
        "outputId": "e5ec10a2-092b-4e8a-c291-d5f9865844c7"
      },
      "source": [
        "cm = metrics.confusion_matrix(Y_test, prediction)\n",
        "plot_confusion_matrix(cm, classes=['Fake', 'Real'])"
      ],
      "execution_count": null,
      "outputs": [
        {
          "output_type": "display_data",
          "data": {
            "image/png": "[encoded data removed]",
            "text/plain": [
              "<Figure size 432x288 with 2 Axes>"
            ]
          },
          "metadata": {
            "needs_background": "light"
          }
        }
      ]
    },
    {
      "cell_type": "markdown",
      "metadata": {
        "id": "We1TwjsPGAVu"
      },
      "source": [
        "# **Naive Bayes**"
      ]
    },
    {
      "cell_type": "markdown",
      "metadata": {
        "id": "adzLTrWSEEan"
      },
      "source": [
        "## **Bernoulli Naive Bayes**"
      ]
    },
    {
      "cell_type": "code",
      "metadata": {
        "id": "ijq0vJ4GEDw2"
      },
      "source": [
        "from sklearn.naive_bayes import BernoulliNB\n",
        "\n",
        "pipe = Pipeline([('vect', CountVectorizer()),\n",
        "                 ('tfidf', TfidfTransformer()),\n",
        "                 ('model', BernoulliNB())])  \n",
        "# Fitting the model\n",
        "model = pipe.fit(X_train, Y_train)"
      ],
      "execution_count": null,
      "outputs": []
    },
    {
      "cell_type": "code",
      "metadata": {
        "id": "DXNUhSqaEOdy",
        "colab": {
          "base_uri": "https://localhost:8080/"
        },
        "outputId": "356abcd1-b8de-43ce-b534-fca5328a4d8a"
      },
      "source": [
        "# Accuracy\n",
        "prediction = model.predict(X_test)\n",
        "print(f\"Accuracy score is {accuracy_score(Y_test, prediction):.2f}\")\n",
        "print(classification_report(prediction,Y_test))"
      ],
      "execution_count": null,
      "outputs": [
        {
          "output_type": "stream",
          "name": "stdout",
          "text": [
            "Accuracy score is 0.78\n",
            "              precision    recall  f1-score   support\n",
            "\n",
            "           0       0.84      0.75      0.79      5047\n",
            "           1       0.72      0.82      0.77      4008\n",
            "\n",
            "    accuracy                           0.78      9055\n",
            "   macro avg       0.78      0.78      0.78      9055\n",
            "weighted avg       0.79      0.78      0.78      9055\n",
            "\n"
          ]
        }
      ]
    },
    {
      "cell_type": "code",
      "metadata": {
        "id": "L-GsaDKICGaO",
        "colab": {
          "base_uri": "https://localhost:8080/",
          "height": 283
        },
        "outputId": "7572a90a-affe-41d0-a41f-bcecf11c7092"
      },
      "source": [
        "fpr,tpr,thresholds=roc_curve(prediction,Y_test)\n",
        "plt.plot(fpr,tpr)\n",
        "auc_score5=roc_auc_score(prediction,Y_test)\n",
        "auc_score5"
      ],
      "execution_count": null,
      "outputs": [
        {
          "output_type": "execute_result",
          "data": {
            "text/plain": [
              "0.7836945239696947"
            ]
          },
          "metadata": {},
          "execution_count": 104
        },
        {
          "output_type": "display_data",
          "data": {
            "image/png": "[encoded data removed]",
            "text/plain": [
              "<Figure size 432x288 with 1 Axes>"
            ]
          },
          "metadata": {
            "needs_background": "light"
          }
        }
      ]
    },
    {
      "cell_type": "code",
      "metadata": {
        "id": "zcrYjOadCGaP",
        "colab": {
          "base_uri": "https://localhost:8080/"
        },
        "outputId": "eba73df0-60b1-40a2-c914-00304147a370"
      },
      "source": [
        "AUC[5] =['Bernoulli Naive Bayes', auc_score5] \n",
        "AUC"
      ],
      "execution_count": null,
      "outputs": [
        {
          "output_type": "execute_result",
          "data": {
            "text/plain": [
              "{1: ['Logistic regression', 0.7918171663186804],\n",
              " 3: ['Desicion Tree Classifier', 0.690872204159315],\n",
              " 4: ['K-Nearest Neighbour', 0.7693887789015399],\n",
              " 5: ['Bernoulli Naive Bayes', 0.7836945239696947]}"
            ]
          },
          "metadata": {},
          "execution_count": 105
        }
      ]
    },
    {
      "cell_type": "code",
      "metadata": {
        "id": "_V2akJYYCGaP",
        "colab": {
          "base_uri": "https://localhost:8080/"
        },
        "outputId": "79afcb89-146f-42b5-e6b7-12d358e50afe"
      },
      "source": [
        "acc=accuracy_score(Y_test, prediction)\n",
        "models[5] =['Bernoulli Naive Bayes', acc] \n",
        "models"
      ],
      "execution_count": null,
      "outputs": [
        {
          "output_type": "execute_result",
          "data": {
            "text/plain": [
              "{1: ['Logistic Regression', 0.7917172832689122],\n",
              " 3: ['Decision Tree Classifier', 0.6364439536167863],\n",
              " 4: ['K-Nearest Neighbour', 0.7219215902816124],\n",
              " 5: ['Bernoulli Naive Bayes', 0.7794588625069022]}"
            ]
          },
          "metadata": {},
          "execution_count": 106
        }
      ]
    },
    {
      "cell_type": "code",
      "metadata": {
        "id": "EjvVUYLcvxSl",
        "colab": {
          "base_uri": "https://localhost:8080/",
          "height": 311
        },
        "outputId": "f166fa0a-7a9f-44a0-bfc3-a38ddd6700cd"
      },
      "source": [
        "cm = metrics.confusion_matrix(Y_test, prediction)\n",
        "plot_confusion_matrix(cm, classes=['Fake', 'Real'])"
      ],
      "execution_count": null,
      "outputs": [
        {
          "output_type": "display_data",
          "data": {
            "image/png": "[encoded data removed]",
            "text/plain": [
              "<Figure size 432x288 with 2 Axes>"
            ]
          },
          "metadata": {
            "needs_background": "light"
          }
        }
      ]
    },
    {
      "cell_type": "markdown",
      "metadata": {
        "id": "3oSUOAFvSJTd"
      },
      "source": [
        "## **Multinomial Naive Bayes**"
      ]
    },
    {
      "cell_type": "code",
      "metadata": {
        "id": "ohHqUHSuSPay",
        "colab": {
          "base_uri": "https://localhost:8080/"
        },
        "outputId": "9e3d399b-7f69-4b26-8060-40b3f8d16aa0"
      },
      "source": [
        "from sklearn.naive_bayes import MultinomialNB\n",
        "\n",
        "pipe = Pipeline([('vect', CountVectorizer()),\n",
        "                 ('tfidf', TfidfTransformer()),\n",
        "                 ('model', MultinomialNB())])  \n",
        "# Fitting the model\n",
        "model = pipe.fit(X_train, Y_train)\n",
        "\n",
        "# Accuracy\n",
        "prediction = model.predict(X_test)\n",
        "print(\"accuracy: {}%\".format(round(accuracy_score(Y_test, prediction)*100,2)))"
      ],
      "execution_count": null,
      "outputs": [
        {
          "output_type": "stream",
          "name": "stdout",
          "text": [
            "accuracy: 77.67%\n"
          ]
        }
      ]
    },
    {
      "cell_type": "code",
      "metadata": {
        "id": "zD_0pZKgSV7A",
        "colab": {
          "base_uri": "https://localhost:8080/"
        },
        "outputId": "381828e6-4ef3-43f9-cc88-0262efa78e85"
      },
      "source": [
        "print(classification_report(prediction,Y_test))"
      ],
      "execution_count": null,
      "outputs": [
        {
          "output_type": "stream",
          "name": "stdout",
          "text": [
            "              precision    recall  f1-score   support\n",
            "\n",
            "           0       0.79      0.77      0.78      4584\n",
            "           1       0.77      0.78      0.78      4471\n",
            "\n",
            "    accuracy                           0.78      9055\n",
            "   macro avg       0.78      0.78      0.78      9055\n",
            "weighted avg       0.78      0.78      0.78      9055\n",
            "\n"
          ]
        }
      ]
    },
    {
      "cell_type": "code",
      "metadata": {
        "id": "cO6yeRiOCaHn",
        "colab": {
          "base_uri": "https://localhost:8080/",
          "height": 283
        },
        "outputId": "6cddefc8-7b4e-454b-8cbd-aa4b9e0f252d"
      },
      "source": [
        "fpr,tpr,thresholds=roc_curve(prediction,Y_test)\n",
        "plt.plot(fpr,tpr)\n",
        "auc_score6=roc_auc_score(prediction,Y_test)\n",
        "auc_score6"
      ],
      "execution_count": null,
      "outputs": [
        {
          "output_type": "execute_result",
          "data": {
            "text/plain": [
              "0.7767955006141968"
            ]
          },
          "metadata": {},
          "execution_count": 110
        },
        {
          "output_type": "display_data",
          "data": {
            "image/png": "[encoded data removed]",
            "text/plain": [
              "<Figure size 432x288 with 1 Axes>"
            ]
          },
          "metadata": {
            "needs_background": "light"
          }
        }
      ]
    },
    {
      "cell_type": "code",
      "metadata": {
        "id": "V81-Kw3JCaHv",
        "colab": {
          "base_uri": "https://localhost:8080/"
        },
        "outputId": "fccf2129-95f9-4d16-c870-81982a74a0f0"
      },
      "source": [
        "AUC[6] =['Multinomial Naive Bayes', auc_score6] \n",
        "AUC"
      ],
      "execution_count": null,
      "outputs": [
        {
          "output_type": "execute_result",
          "data": {
            "text/plain": [
              "{1: ['Logistic regression', 0.7918171663186804],\n",
              " 3: ['Desicion Tree Classifier', 0.690872204159315],\n",
              " 4: ['K-Nearest Neighbour', 0.7693887789015399],\n",
              " 5: ['Bernoulli Naive Bayes', 0.7836945239696947],\n",
              " 6: ['Multinomial Naive Bayes', 0.7767955006141968]}"
            ]
          },
          "metadata": {},
          "execution_count": 111
        }
      ]
    },
    {
      "cell_type": "code",
      "metadata": {
        "id": "OGzE5HUvCaHv",
        "colab": {
          "base_uri": "https://localhost:8080/"
        },
        "outputId": "0241df9d-62ea-4e93-b0a0-db71e7fffc4d"
      },
      "source": [
        "acc=accuracy_score(Y_test, prediction)\n",
        "models[6] =['Multinomial Naive Bayes', acc] \n",
        "models"
      ],
      "execution_count": null,
      "outputs": [
        {
          "output_type": "execute_result",
          "data": {
            "text/plain": [
              "{1: ['Logistic Regression', 0.7917172832689122],\n",
              " 3: ['Decision Tree Classifier', 0.6364439536167863],\n",
              " 4: ['K-Nearest Neighbour', 0.7219215902816124],\n",
              " 5: ['Bernoulli Naive Bayes', 0.7794588625069022],\n",
              " 6: ['Multinomial Naive Bayes', 0.776697956929873]}"
            ]
          },
          "metadata": {},
          "execution_count": 112
        }
      ]
    },
    {
      "cell_type": "code",
      "metadata": {
        "id": "mvdswnOav0I0",
        "colab": {
          "base_uri": "https://localhost:8080/",
          "height": 311
        },
        "outputId": "d1a7e713-87c6-4b7c-f263-1205d9c19545"
      },
      "source": [
        "cm = metrics.confusion_matrix(Y_test, prediction)\n",
        "plot_confusion_matrix(cm, classes=['Fake', 'Real'])"
      ],
      "execution_count": null,
      "outputs": [
        {
          "output_type": "display_data",
          "data": {
            "image/png": "[encoded data removed]",
            "text/plain": [
              "<Figure size 432x288 with 2 Axes>"
            ]
          },
          "metadata": {
            "needs_background": "light"
          }
        }
      ]
    },
    {
      "cell_type": "markdown",
      "metadata": {
        "id": "iEzuvZyWFgOs"
      },
      "source": [
        "## **Gaussian Naive Bayes**"
      ]
    },
    {
      "cell_type": "code",
      "metadata": {
        "id": "3lSuPvtOFdOC",
        "colab": {
          "base_uri": "https://localhost:8080/"
        },
        "outputId": "2aa7fda5-2976-4539-dc11-5ca9d25acf8c"
      },
      "source": [
        "from sklearn.naive_bayes import GaussianNB\n",
        "\n",
        "pipe = Pipeline([('vect', CountVectorizer()),\n",
        "                 ('tfidf', TfidfTransformer()),\n",
        "                 ('model', MultinomialNB())])  \n",
        "# Fitting the model\n",
        "model = pipe.fit(X_train, Y_train)\n",
        "\n",
        "# Accuracy\n",
        "prediction = model.predict(X_test)\n",
        "print(\"accuracy: {}%\".format(round(accuracy_score(Y_test, prediction)*100,2)))"
      ],
      "execution_count": null,
      "outputs": [
        {
          "output_type": "stream",
          "name": "stdout",
          "text": [
            "accuracy: 77.67%\n"
          ]
        }
      ]
    },
    {
      "cell_type": "code",
      "metadata": {
        "id": "YAriw-cxMA8A",
        "colab": {
          "base_uri": "https://localhost:8080/"
        },
        "outputId": "9c0404f1-7d36-4956-df29-e7ff4a211d02"
      },
      "source": [
        "print(classification_report(prediction,Y_test))"
      ],
      "execution_count": null,
      "outputs": [
        {
          "output_type": "stream",
          "name": "stdout",
          "text": [
            "              precision    recall  f1-score   support\n",
            "\n",
            "           0       0.79      0.77      0.78      4584\n",
            "           1       0.77      0.78      0.78      4471\n",
            "\n",
            "    accuracy                           0.78      9055\n",
            "   macro avg       0.78      0.78      0.78      9055\n",
            "weighted avg       0.78      0.78      0.78      9055\n",
            "\n"
          ]
        }
      ]
    },
    {
      "cell_type": "code",
      "metadata": {
        "id": "j2C8dTrKMF7Y",
        "colab": {
          "base_uri": "https://localhost:8080/",
          "height": 283
        },
        "outputId": "8e7adaf8-699c-42e2-8f7b-f6617ca72fa3"
      },
      "source": [
        "fpr,tpr,thresholds=roc_curve(prediction,Y_test)\n",
        "plt.plot(fpr,tpr)\n",
        "auc_score7=roc_auc_score(prediction,Y_test)\n",
        "auc_score7"
      ],
      "execution_count": null,
      "outputs": [
        {
          "output_type": "execute_result",
          "data": {
            "text/plain": [
              "0.7767955006141968"
            ]
          },
          "metadata": {},
          "execution_count": 116
        },
        {
          "output_type": "display_data",
          "data": {
            "image/png": "[encoded data removed]",
            "text/plain": [
              "<Figure size 432x288 with 1 Axes>"
            ]
          },
          "metadata": {
            "needs_background": "light"
          }
        }
      ]
    },
    {
      "cell_type": "code",
      "metadata": {
        "id": "Y651LnleMF7Y",
        "colab": {
          "base_uri": "https://localhost:8080/"
        },
        "outputId": "a7e210e8-2a51-40b3-f42e-367290ba900d"
      },
      "source": [
        "AUC[7] =['Gaussian Naive Bayes', auc_score7] \n",
        "AUC"
      ],
      "execution_count": null,
      "outputs": [
        {
          "output_type": "execute_result",
          "data": {
            "text/plain": [
              "{1: ['Logistic regression', 0.7918171663186804],\n",
              " 3: ['Desicion Tree Classifier', 0.690872204159315],\n",
              " 4: ['K-Nearest Neighbour', 0.7693887789015399],\n",
              " 5: ['Bernoulli Naive Bayes', 0.7836945239696947],\n",
              " 6: ['Multinomial Naive Bayes', 0.7767955006141968],\n",
              " 7: ['Gaussian Naive Bayes', 0.7767955006141968]}"
            ]
          },
          "metadata": {},
          "execution_count": 117
        }
      ]
    },
    {
      "cell_type": "code",
      "metadata": {
        "id": "BCfQuU0ZMF7Z",
        "colab": {
          "base_uri": "https://localhost:8080/"
        },
        "outputId": "38733a60-e998-4a3a-e62d-567c0277f024"
      },
      "source": [
        "acc=accuracy_score(Y_test, prediction)\n",
        "models[7] =['Gaussian Naive Bayes', acc] \n",
        "models"
      ],
      "execution_count": null,
      "outputs": [
        {
          "output_type": "execute_result",
          "data": {
            "text/plain": [
              "{1: ['Logistic Regression', 0.7917172832689122],\n",
              " 3: ['Decision Tree Classifier', 0.6364439536167863],\n",
              " 4: ['K-Nearest Neighbour', 0.7219215902816124],\n",
              " 5: ['Bernoulli Naive Bayes', 0.7794588625069022],\n",
              " 6: ['Multinomial Naive Bayes', 0.776697956929873],\n",
              " 7: ['Gaussian Naive Bayes', 0.776697956929873]}"
            ]
          },
          "metadata": {},
          "execution_count": 118
        }
      ]
    },
    {
      "cell_type": "code",
      "metadata": {
        "id": "22pn-q_pv2qi",
        "colab": {
          "base_uri": "https://localhost:8080/",
          "height": 311
        },
        "outputId": "b644e481-92ed-4d06-fc6f-75f6e5a0caad"
      },
      "source": [
        "cm = metrics.confusion_matrix(Y_test, prediction)\n",
        "plot_confusion_matrix(cm, classes=['Fake', 'Real'])"
      ],
      "execution_count": null,
      "outputs": [
        {
          "output_type": "display_data",
          "data": {
            "image/png": "[encoded data removed]",
            "text/plain": [
              "<Figure size 432x288 with 2 Axes>"
            ]
          },
          "metadata": {
            "needs_background": "light"
          }
        }
      ]
    },
    {
      "cell_type": "markdown",
      "metadata": {
        "id": "Si_1JKnB0x14"
      },
      "source": [
        "# **Support Vector Machine(SVM)**"
      ]
    },
    {
      "cell_type": "markdown",
      "metadata": {
        "id": "pj0FNO7VO7H4"
      },
      "source": [
        "##**LINEAR**"
      ]
    },
    {
      "cell_type": "code",
      "metadata": {
        "id": "EMtI2XV20-1e",
        "colab": {
          "base_uri": "https://localhost:8080/"
        },
        "outputId": "fabb8d89-4230-4531-ed0f-2c2d4a9c9023"
      },
      "source": [
        "from sklearn.svm import SVC  \n",
        "\n",
        "pipe = Pipeline([('vect', CountVectorizer()),\n",
        "                 ('tfidf', TfidfTransformer()),\n",
        "                 ('model',SVC(kernel='linear'))])  \n",
        "# Fitting the model\n",
        "model = pipe.fit(X_train, Y_train)\n",
        "\n",
        "# Accuracy\n",
        "prediction = model.predict(X_test)\n",
        "print(\"accuracy: {}%\".format(round(accuracy_score(Y_test, prediction)*100,2)))\n"
      ],
      "execution_count": null,
      "outputs": [
        {
          "output_type": "stream",
          "name": "stdout",
          "text": [
            "accuracy: 78.75%\n"
          ]
        }
      ]
    },
    {
      "cell_type": "code",
      "metadata": {
        "id": "M3RgkCVA1tDW",
        "colab": {
          "base_uri": "https://localhost:8080/"
        },
        "outputId": "31cd2765-2e0f-4829-d10e-528bc5cca508"
      },
      "source": [
        "print(classification_report(prediction,Y_test))"
      ],
      "execution_count": null,
      "outputs": [
        {
          "output_type": "stream",
          "name": "stdout",
          "text": [
            "              precision    recall  f1-score   support\n",
            "\n",
            "           0       0.81      0.77      0.79      4736\n",
            "           1       0.76      0.81      0.78      4319\n",
            "\n",
            "    accuracy                           0.79      9055\n",
            "   macro avg       0.79      0.79      0.79      9055\n",
            "weighted avg       0.79      0.79      0.79      9055\n",
            "\n"
          ]
        }
      ]
    },
    {
      "cell_type": "code",
      "metadata": {
        "id": "OyDH2mrOEJFS",
        "colab": {
          "base_uri": "https://localhost:8080/",
          "height": 283
        },
        "outputId": "dcfab080-3acc-4ff5-d6d0-c6fcc676132f"
      },
      "source": [
        "fpr,tpr,thresholds=roc_curve(prediction,Y_test)\n",
        "plt.plot(fpr,tpr)\n",
        "auc_score8=roc_auc_score(prediction,Y_test)\n",
        "auc_score8"
      ],
      "execution_count": null,
      "outputs": [
        {
          "output_type": "execute_result",
          "data": {
            "text/plain": [
              "0.7883330862843625"
            ]
          },
          "metadata": {},
          "execution_count": 123
        },
        {
          "output_type": "display_data",
          "data": {
            "image/png": "[encoded data removed]",
            "text/plain": [
              "<Figure size 432x288 with 1 Axes>"
            ]
          },
          "metadata": {
            "needs_background": "light"
          }
        }
      ]
    },
    {
      "cell_type": "code",
      "metadata": {
        "id": "2n9d8ZDkEJFb",
        "colab": {
          "base_uri": "https://localhost:8080/"
        },
        "outputId": "a526c8e0-da9e-4c52-e099-e62cb34ed8ad"
      },
      "source": [
        "AUC[8] =['Linear SVM', auc_score8] \n",
        "AUC"
      ],
      "execution_count": null,
      "outputs": [
        {
          "output_type": "execute_result",
          "data": {
            "text/plain": [
              "{1: ['Logistic regression', 0.7918171663186804],\n",
              " 3: ['Desicion Tree Classifier', 0.690872204159315],\n",
              " 4: ['K-Nearest Neighbour', 0.7693887789015399],\n",
              " 5: ['Bernoulli Naive Bayes', 0.7836945239696947],\n",
              " 6: ['Multinomial Naive Bayes', 0.7767955006141968],\n",
              " 7: ['Gaussian Naive Bayes', 0.7767955006141968],\n",
              " 8: ['Linear SVM', 0.7883330862843625]}"
            ]
          },
          "metadata": {},
          "execution_count": 124
        }
      ]
    },
    {
      "cell_type": "code",
      "metadata": {
        "id": "VSvwuEt8EJFb",
        "colab": {
          "base_uri": "https://localhost:8080/"
        },
        "outputId": "3c9b8100-6806-402b-80fc-0beac94953df"
      },
      "source": [
        "acc=accuracy_score(Y_test, prediction)\n",
        "models[8] =['Linear SVM', acc] \n",
        "models"
      ],
      "execution_count": null,
      "outputs": [
        {
          "output_type": "execute_result",
          "data": {
            "text/plain": [
              "{1: ['Logistic Regression', 0.7917172832689122],\n",
              " 3: ['Decision Tree Classifier', 0.6364439536167863],\n",
              " 4: ['K-Nearest Neighbour', 0.7219215902816124],\n",
              " 5: ['Bernoulli Naive Bayes', 0.7794588625069022],\n",
              " 6: ['Multinomial Naive Bayes', 0.776697956929873],\n",
              " 7: ['Gaussian Naive Bayes', 0.776697956929873],\n",
              " 8: ['Linear SVM', 0.7875207067918277]}"
            ]
          },
          "metadata": {},
          "execution_count": 125
        }
      ]
    },
    {
      "cell_type": "code",
      "metadata": {
        "id": "ItX7umktv7QV",
        "colab": {
          "base_uri": "https://localhost:8080/",
          "height": 311
        },
        "outputId": "c2cce50f-4880-4a29-9d84-d6a2908ddeb4"
      },
      "source": [
        "cm = metrics.confusion_matrix(Y_test, prediction)\n",
        "plot_confusion_matrix(cm, classes=['Fake', 'Real'])"
      ],
      "execution_count": null,
      "outputs": [
        {
          "output_type": "display_data",
          "data": {
            "image/png": "[encoded data removed]",
            "text/plain": [
              "<Figure size 432x288 with 2 Axes>"
            ]
          },
          "metadata": {
            "needs_background": "light"
          }
        }
      ]
    },
    {
      "cell_type": "markdown",
      "metadata": {
        "id": "lUl062DlPCwY"
      },
      "source": [
        "##**POLYNOMIAL**"
      ]
    },
    {
      "cell_type": "code",
      "metadata": {
        "id": "z4fyy7sxPYzg",
        "colab": {
          "base_uri": "https://localhost:8080/"
        },
        "outputId": "10a1bf5c-c6ec-4002-8e34-07f699ade677"
      },
      "source": [
        "from sklearn.svm import SVC  \n",
        "\n",
        "pipe = Pipeline([('vect', CountVectorizer()),\n",
        "                 ('tfidf', TfidfTransformer()),\n",
        "                 ('model',SVC(kernel='poly'))])  \n",
        "# Fitting the model\n",
        "model = pipe.fit(X_train, Y_train)\n",
        "\n",
        "# Accuracy\n",
        "prediction = model.predict(X_test)\n",
        "print(\"accuracy: {}%\".format(round(accuracy_score(Y_test, prediction)*100,2)))\n"
      ],
      "execution_count": null,
      "outputs": [
        {
          "output_type": "stream",
          "name": "stdout",
          "text": [
            "accuracy: 78.96%\n"
          ]
        }
      ]
    },
    {
      "cell_type": "code",
      "metadata": {
        "id": "hoY_pTVePZvq",
        "colab": {
          "base_uri": "https://localhost:8080/"
        },
        "outputId": "03056ad6-e6fe-42df-f60f-17b397f55d91"
      },
      "source": [
        "print(classification_report(prediction,Y_test))"
      ],
      "execution_count": null,
      "outputs": [
        {
          "output_type": "stream",
          "name": "stdout",
          "text": [
            "              precision    recall  f1-score   support\n",
            "\n",
            "           0       0.90      0.73      0.81      5515\n",
            "           1       0.68      0.88      0.77      3540\n",
            "\n",
            "    accuracy                           0.79      9055\n",
            "   macro avg       0.79      0.81      0.79      9055\n",
            "weighted avg       0.81      0.79      0.79      9055\n",
            "\n"
          ]
        }
      ]
    },
    {
      "cell_type": "code",
      "metadata": {
        "id": "QujyF-AMEKB4",
        "colab": {
          "base_uri": "https://localhost:8080/",
          "height": 283
        },
        "outputId": "b9813a0b-9b84-4a91-a2d5-71d88b90fee9"
      },
      "source": [
        "fpr,tpr,thresholds=roc_curve(prediction,Y_test)\n",
        "plt.plot(fpr,tpr)\n",
        "auc_score9=roc_auc_score(prediction,Y_test)\n",
        "auc_score9"
      ],
      "execution_count": null,
      "outputs": [
        {
          "output_type": "execute_result",
          "data": {
            "text/plain": [
              "0.8050841054955413"
            ]
          },
          "metadata": {},
          "execution_count": 129
        },
        {
          "output_type": "display_data",
          "data": {
            "image/png": "[encoded data removed]",
            "text/plain": [
              "<Figure size 432x288 with 1 Axes>"
            ]
          },
          "metadata": {
            "needs_background": "light"
          }
        }
      ]
    },
    {
      "cell_type": "code",
      "metadata": {
        "id": "qzrxYYCSEKB5",
        "colab": {
          "base_uri": "https://localhost:8080/"
        },
        "outputId": "74c0bd06-7caa-4753-8295-78486393f10e"
      },
      "source": [
        "AUC[9] =['Polynomial SVM', auc_score9] \n",
        "AUC"
      ],
      "execution_count": null,
      "outputs": [
        {
          "output_type": "execute_result",
          "data": {
            "text/plain": [
              "{1: ['Logistic regression', 0.7918171663186804],\n",
              " 3: ['Desicion Tree Classifier', 0.690872204159315],\n",
              " 4: ['K-Nearest Neighbour', 0.7693887789015399],\n",
              " 5: ['Bernoulli Naive Bayes', 0.7836945239696947],\n",
              " 6: ['Multinomial Naive Bayes', 0.7767955006141968],\n",
              " 7: ['Gaussian Naive Bayes', 0.7767955006141968],\n",
              " 8: ['Linear SVM', 0.7883330862843625],\n",
              " 9: ['Polynomial SVM', 0.8050841054955413]}"
            ]
          },
          "metadata": {},
          "execution_count": 130
        }
      ]
    },
    {
      "cell_type": "code",
      "metadata": {
        "id": "Y-b0UmmwEKB5",
        "colab": {
          "base_uri": "https://localhost:8080/"
        },
        "outputId": "c5838afc-d438-43f1-9df0-b25a35d250e4"
      },
      "source": [
        "acc=accuracy_score(Y_test, prediction)\n",
        "models[9] =['Polynomial SVM', acc] \n",
        "models"
      ],
      "execution_count": null,
      "outputs": [
        {
          "output_type": "execute_result",
          "data": {
            "text/plain": [
              "{1: ['Logistic Regression', 0.7917172832689122],\n",
              " 3: ['Decision Tree Classifier', 0.6364439536167863],\n",
              " 4: ['K-Nearest Neighbour', 0.7219215902816124],\n",
              " 5: ['Bernoulli Naive Bayes', 0.7794588625069022],\n",
              " 6: ['Multinomial Naive Bayes', 0.776697956929873],\n",
              " 7: ['Gaussian Naive Bayes', 0.776697956929873],\n",
              " 8: ['Linear SVM', 0.7875207067918277],\n",
              " 9: ['Polynomial SVM', 0.7896189950303699]}"
            ]
          },
          "metadata": {},
          "execution_count": 131
        }
      ]
    },
    {
      "cell_type": "code",
      "metadata": {
        "id": "6y6G199kv_M1",
        "colab": {
          "base_uri": "https://localhost:8080/",
          "height": 311
        },
        "outputId": "d1cb80a6-fbbe-43fe-a0f6-8748ea45800a"
      },
      "source": [
        "cm = metrics.confusion_matrix(Y_test, prediction)\n",
        "plot_confusion_matrix(cm, classes=['Fake', 'Real'])"
      ],
      "execution_count": null,
      "outputs": [
        {
          "output_type": "display_data",
          "data": {
            "image/png": "[encoded data removed]",
            "text/plain": [
              "<Figure size 432x288 with 2 Axes>"
            ]
          },
          "metadata": {
            "needs_background": "light"
          }
        }
      ]
    },
    {
      "cell_type": "markdown",
      "metadata": {
        "id": "4HSJrRCFPkyl"
      },
      "source": [
        "##**SIGMOID**"
      ]
    },
    {
      "cell_type": "code",
      "metadata": {
        "id": "XorMd0DcPyLA",
        "colab": {
          "base_uri": "https://localhost:8080/"
        },
        "outputId": "cabcc043-72f8-49a9-d091-aa717f382954"
      },
      "source": [
        "from sklearn.svm import SVC  \n",
        "\n",
        "pipe = Pipeline([('vect', CountVectorizer()),\n",
        "                 ('tfidf', TfidfTransformer()),\n",
        "                 ('model',SVC(kernel='sigmoid'))])  \n",
        "# Fitting the model\n",
        "model = pipe.fit(X_train, Y_train)\n",
        "\n",
        "# Accuracy\n",
        "prediction = model.predict(X_test)\n",
        "print(\"accuracy: {}%\".format(round(accuracy_score(Y_test, prediction)*100,2)))\n"
      ],
      "execution_count": null,
      "outputs": [
        {
          "output_type": "stream",
          "name": "stdout",
          "text": [
            "accuracy: 76.89%\n"
          ]
        }
      ]
    },
    {
      "cell_type": "code",
      "metadata": {
        "id": "cICL1SxfPyUD",
        "colab": {
          "base_uri": "https://localhost:8080/"
        },
        "outputId": "ee5079a7-236d-4a94-f192-40fb3af7d36e"
      },
      "source": [
        "print(classification_report(prediction,Y_test))"
      ],
      "execution_count": null,
      "outputs": [
        {
          "output_type": "stream",
          "name": "stdout",
          "text": [
            "              precision    recall  f1-score   support\n",
            "\n",
            "           0       0.81      0.75      0.78      4851\n",
            "           1       0.73      0.79      0.76      4204\n",
            "\n",
            "    accuracy                           0.77      9055\n",
            "   macro avg       0.77      0.77      0.77      9055\n",
            "weighted avg       0.77      0.77      0.77      9055\n",
            "\n"
          ]
        }
      ]
    },
    {
      "cell_type": "code",
      "metadata": {
        "id": "G4TGsABUEK5G",
        "colab": {
          "base_uri": "https://localhost:8080/",
          "height": 283
        },
        "outputId": "b4fc6ea4-7465-4a42-e6b8-0dfcd3de18d7"
      },
      "source": [
        "fpr,tpr,thresholds=roc_curve(prediction,Y_test)\n",
        "plt.plot(fpr,tpr)\n",
        "auc_score10=roc_auc_score(prediction,Y_test)\n",
        "auc_score10"
      ],
      "execution_count": null,
      "outputs": [
        {
          "output_type": "execute_result",
          "data": {
            "text/plain": [
              "0.7705499479150424"
            ]
          },
          "metadata": {},
          "execution_count": 135
        },
        {
          "output_type": "display_data",
          "data": {
            "image/png": "[encoded data removed]",
            "text/plain": [
              "<Figure size 432x288 with 1 Axes>"
            ]
          },
          "metadata": {
            "needs_background": "light"
          }
        }
      ]
    },
    {
      "cell_type": "code",
      "metadata": {
        "id": "vCPVfiXsEK5H",
        "colab": {
          "base_uri": "https://localhost:8080/"
        },
        "outputId": "8956d9e0-db23-4309-9d67-56ff1d2e43d0"
      },
      "source": [
        "AUC[10] =['Sigmoid SVM', auc_score10] \n",
        "AUC"
      ],
      "execution_count": null,
      "outputs": [
        {
          "output_type": "execute_result",
          "data": {
            "text/plain": [
              "{1: ['Logistic regression', 0.7918171663186804],\n",
              " 3: ['Desicion Tree Classifier', 0.690872204159315],\n",
              " 4: ['K-Nearest Neighbour', 0.7693887789015399],\n",
              " 5: ['Bernoulli Naive Bayes', 0.7836945239696947],\n",
              " 6: ['Multinomial Naive Bayes', 0.7767955006141968],\n",
              " 7: ['Gaussian Naive Bayes', 0.7767955006141968],\n",
              " 8: ['Linear SVM', 0.7883330862843625],\n",
              " 9: ['Polynomial SVM', 0.8050841054955413],\n",
              " 10: ['Sigmoid SVM', 0.7705499479150424]}"
            ]
          },
          "metadata": {},
          "execution_count": 136
        }
      ]
    },
    {
      "cell_type": "code",
      "metadata": {
        "id": "NNNNNOiHEK5H",
        "colab": {
          "base_uri": "https://localhost:8080/"
        },
        "outputId": "10f0a492-132d-4dfd-de13-9a633fbab41c"
      },
      "source": [
        "acc=accuracy_score(Y_test, prediction)\n",
        "models[10] =['Sigmoid SVM', acc] \n",
        "models"
      ],
      "execution_count": null,
      "outputs": [
        {
          "output_type": "execute_result",
          "data": {
            "text/plain": [
              "{1: ['Logistic Regression', 0.7917172832689122],\n",
              " 3: ['Decision Tree Classifier', 0.6364439536167863],\n",
              " 4: ['K-Nearest Neighbour', 0.7219215902816124],\n",
              " 5: ['Bernoulli Naive Bayes', 0.7794588625069022],\n",
              " 6: ['Multinomial Naive Bayes', 0.776697956929873],\n",
              " 7: ['Gaussian Naive Bayes', 0.776697956929873],\n",
              " 8: ['Linear SVM', 0.7875207067918277],\n",
              " 9: ['Polynomial SVM', 0.7896189950303699],\n",
              " 10: ['Sigmoid SVM', 0.7688569850911099]}"
            ]
          },
          "metadata": {},
          "execution_count": 137
        }
      ]
    },
    {
      "cell_type": "code",
      "metadata": {
        "id": "ieLv0Jh3wB0Y",
        "colab": {
          "base_uri": "https://localhost:8080/",
          "height": 311
        },
        "outputId": "d77b3cc4-e1b0-4a7d-ca9c-f4f74f2c63d0"
      },
      "source": [
        "cm = metrics.confusion_matrix(Y_test, prediction)\n",
        "plot_confusion_matrix(cm, classes=['Fake', 'Real'])"
      ],
      "execution_count": null,
      "outputs": [
        {
          "output_type": "display_data",
          "data": {
            "image/png": "[encoded data removed]",
            "text/plain": [
              "<Figure size 432x288 with 2 Axes>"
            ]
          },
          "metadata": {
            "needs_background": "light"
          }
        }
      ]
    },
    {
      "cell_type": "markdown",
      "metadata": {
        "id": "fXmZj9-9Qu3a"
      },
      "source": [
        "##**RBF**"
      ]
    },
    {
      "cell_type": "code",
      "metadata": {
        "id": "yuvevf3PRMjh",
        "colab": {
          "base_uri": "https://localhost:8080/"
        },
        "outputId": "72a8ecd3-e495-4f31-9b54-4bb6658526c5"
      },
      "source": [
        "from sklearn.svm import SVC  \n",
        "\n",
        "pipe = Pipeline([('vect', CountVectorizer()),\n",
        "                 ('tfidf', TfidfTransformer()),\n",
        "                 ('model',SVC(kernel='rbf'))])  \n",
        "# Fitting the model\n",
        "model = pipe.fit(X_train, Y_train)\n",
        "\n",
        "# Accuracy\n",
        "prediction = model.predict(X_test)\n",
        "print(\"accuracy: {}%\".format(round(accuracy_score(Y_test, prediction)*100,2)))"
      ],
      "execution_count": null,
      "outputs": [
        {
          "output_type": "stream",
          "name": "stdout",
          "text": [
            "accuracy: 80.38%\n"
          ]
        }
      ]
    },
    {
      "cell_type": "code",
      "metadata": {
        "id": "HBYrzWuBRMrP",
        "colab": {
          "base_uri": "https://localhost:8080/"
        },
        "outputId": "6fe16600-e6af-470a-ac55-b70d0ca54957"
      },
      "source": [
        "print(classification_report(prediction,Y_test))"
      ],
      "execution_count": null,
      "outputs": [
        {
          "output_type": "stream",
          "name": "stdout",
          "text": [
            "              precision    recall  f1-score   support\n",
            "\n",
            "           0       0.85      0.78      0.81      4919\n",
            "           1       0.76      0.84      0.80      4136\n",
            "\n",
            "    accuracy                           0.80      9055\n",
            "   macro avg       0.80      0.81      0.80      9055\n",
            "weighted avg       0.81      0.80      0.80      9055\n",
            "\n"
          ]
        }
      ]
    },
    {
      "cell_type": "code",
      "metadata": {
        "id": "ztu-dlHnELsd",
        "colab": {
          "base_uri": "https://localhost:8080/",
          "height": 283
        },
        "outputId": "6ac3fbc4-cb94-404f-cc42-2a7aaec2c92a"
      },
      "source": [
        "fpr,tpr,thresholds=roc_curve(prediction,Y_test)\n",
        "plt.plot(fpr,tpr)\n",
        "auc_score11=roc_auc_score(prediction,Y_test)\n",
        "auc_score11"
      ],
      "execution_count": null,
      "outputs": [
        {
          "output_type": "execute_result",
          "data": {
            "text/plain": [
              "0.8064232687526321"
            ]
          },
          "metadata": {},
          "execution_count": 141
        },
        {
          "output_type": "display_data",
          "data": {
            "image/png": "[encoded data removed]",
            "text/plain": [
              "<Figure size 432x288 with 1 Axes>"
            ]
          },
          "metadata": {
            "needs_background": "light"
          }
        }
      ]
    },
    {
      "cell_type": "code",
      "metadata": {
        "id": "V3e_D3tHELsd",
        "colab": {
          "base_uri": "https://localhost:8080/"
        },
        "outputId": "54aa18bf-a4ad-4596-8ffc-517ed837ec8b"
      },
      "source": [
        "AUC[11] =['RBF Classifier', auc_score11] \n",
        "AUC"
      ],
      "execution_count": null,
      "outputs": [
        {
          "output_type": "execute_result",
          "data": {
            "text/plain": [
              "{1: ['Logistic regression', 0.7918171663186804],\n",
              " 3: ['Desicion Tree Classifier', 0.690872204159315],\n",
              " 4: ['K-Nearest Neighbour', 0.7693887789015399],\n",
              " 5: ['Bernoulli Naive Bayes', 0.7836945239696947],\n",
              " 6: ['Multinomial Naive Bayes', 0.7767955006141968],\n",
              " 7: ['Gaussian Naive Bayes', 0.7767955006141968],\n",
              " 8: ['Linear SVM', 0.7883330862843625],\n",
              " 9: ['Polynomial SVM', 0.8050841054955413],\n",
              " 10: ['Sigmoid SVM', 0.7705499479150424],\n",
              " 11: ['RBF Classifier', 0.8064232687526321]}"
            ]
          },
          "metadata": {},
          "execution_count": 142
        }
      ]
    },
    {
      "cell_type": "code",
      "metadata": {
        "id": "bU2JIyCRELse",
        "colab": {
          "base_uri": "https://localhost:8080/"
        },
        "outputId": "5be6cdfb-41df-40b0-c945-ced5589920a1"
      },
      "source": [
        "acc=accuracy_score(Y_test, prediction)\n",
        "models[11] =['RBF Classifier', acc] \n",
        "models"
      ],
      "execution_count": null,
      "outputs": [
        {
          "output_type": "execute_result",
          "data": {
            "text/plain": [
              "{1: ['Logistic Regression', 0.7917172832689122],\n",
              " 3: ['Decision Tree Classifier', 0.6364439536167863],\n",
              " 4: ['K-Nearest Neighbour', 0.7219215902816124],\n",
              " 5: ['Bernoulli Naive Bayes', 0.7794588625069022],\n",
              " 6: ['Multinomial Naive Bayes', 0.776697956929873],\n",
              " 7: ['Gaussian Naive Bayes', 0.776697956929873],\n",
              " 8: ['Linear SVM', 0.7875207067918277],\n",
              " 9: ['Polynomial SVM', 0.7896189950303699],\n",
              " 10: ['Sigmoid SVM', 0.7688569850911099],\n",
              " 11: ['RBF Classifier', 0.8037548315847598]}"
            ]
          },
          "metadata": {},
          "execution_count": 143
        }
      ]
    },
    {
      "cell_type": "code",
      "metadata": {
        "id": "9wL-4kPtwDyZ",
        "colab": {
          "base_uri": "https://localhost:8080/",
          "height": 311
        },
        "outputId": "ddaa3964-971d-46d0-da73-353685f3326d"
      },
      "source": [
        "cm = metrics.confusion_matrix(Y_test, prediction)\n",
        "plot_confusion_matrix(cm, classes=['Fake', 'Real'])"
      ],
      "execution_count": null,
      "outputs": [
        {
          "output_type": "display_data",
          "data": {
            "image/png": "[encoded data removed]",
            "text/plain": [
              "<Figure size 432x288 with 2 Axes>"
            ]
          },
          "metadata": {
            "needs_background": "light"
          }
        }
      ]
    },
    {
      "cell_type": "markdown",
      "metadata": {
        "id": "UMulXzjJwSRV"
      },
      "source": [
        "# **Conclusion**"
      ]
    },
    {
      "cell_type": "markdown",
      "metadata": {
        "id": "DIiquF45SgH4"
      },
      "source": [
        "**It is seen that RBF Classifier predicts with better accuracy when compared to other models. So RBF Classifier model can be used for futurepredictions.**"
      ]
    }
  ]
}